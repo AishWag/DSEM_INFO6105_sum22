{
  "nbformat": 4,
  "nbformat_minor": 0,
  "metadata": {
    "colab": {
      "name": "Assignment_3_Q2_002964461.ipynb",
      "provenance": [],
      "collapsed_sections": []
    },
    "kernelspec": {
      "name": "python3",
      "display_name": "Python 3"
    },
    "language_info": {
      "name": "python"
    }
  },
  "cells": [
    {
      "cell_type": "code",
      "execution_count": 1,
      "metadata": {
        "id": "I19tV2H7JXmY"
      },
      "outputs": [],
      "source": [
        "import pandas as pd\n",
        "from sklearn import metrics\n",
        "from sklearn.ensemble import RandomForestRegressor,RandomForestClassifier\n",
        "from sklearn.metrics import accuracy_score,f1_score\n",
        "from pandas.api.types import is_string_dtype,is_numeric_dtype\n",
        "import seaborn as sns\n",
        "import matplotlib.pyplot as plt\n",
        "from sklearn.model_selection import train_test_split\n",
        "import numpy as np\n",
        "from sklearn.model_selection import cross_val_score, train_test_split\n",
        "from sklearn.metrics import r2_score\n",
        "\n",
        "\n",
        "%matplotlib inline"
      ]
    },
    {
      "cell_type": "code",
      "source": [
        "from sklearn.model_selection import train_test_split\n",
        "import seaborn as sns\n",
        "import numpy as np\n",
        "import pandas as pd\n",
        "\n",
        "%matplotlib inline\n",
        "\n"
      ],
      "metadata": {
        "id": "JkOZ2JZEKLWw"
      },
      "execution_count": 2,
      "outputs": []
    },
    {
      "cell_type": "code",
      "source": [
        "from google.colab import files\n",
        "uploaded = files.upload()"
      ],
      "metadata": {
        "colab": {
          "resources": {
            "http://localhost:8080/nbextensions/google.colab/files.js": {
              "data": "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",
              "ok": true,
              "headers": [
                [
                  "content-type",
                  "application/javascript"
                ]
              ],
              "status": 200,
              "status_text": ""
            }
          },
          "base_uri": "https://localhost:8080/",
          "height": 74
        },
        "id": "nlqNHWBPKSWL",
        "outputId": "0c37e32a-5c45-4252-c733-9cc9c82fa077"
      },
      "execution_count": 3,
      "outputs": [
        {
          "output_type": "display_data",
          "data": {
            "text/plain": [
              "<IPython.core.display.HTML object>"
            ],
            "text/html": [
              "\n",
              "     <input type=\"file\" id=\"files-293649fe-4a50-4a72-9ae5-ad16015ccd11\" name=\"files[]\" multiple disabled\n",
              "        style=\"border:none\" />\n",
              "     <output id=\"result-293649fe-4a50-4a72-9ae5-ad16015ccd11\">\n",
              "      Upload widget is only available when the cell has been executed in the\n",
              "      current browser session. Please rerun this cell to enable.\n",
              "      </output>\n",
              "      <script src=\"/nbextensions/google.colab/files.js\"></script> "
            ]
          },
          "metadata": {}
        },
        {
          "output_type": "stream",
          "name": "stdout",
          "text": [
            "Saving Titanic_full.csv to Titanic_full.csv\n"
          ]
        }
      ]
    },
    {
      "cell_type": "code",
      "source": [
        "import io\n",
        "df = pd.read_csv(io.BytesIO(uploaded['Titanic_full.csv']))"
      ],
      "metadata": {
        "id": "lMA1KFB7KUkx"
      },
      "execution_count": 6,
      "outputs": []
    },
    {
      "cell_type": "code",
      "source": [
        "cols = list(df.columns)\n",
        "df.shape"
      ],
      "metadata": {
        "colab": {
          "base_uri": "https://localhost:8080/"
        },
        "id": "V6u0RC_qKgcR",
        "outputId": "4c25038e-f735-4bce-cd4c-1847b1c6a4a6"
      },
      "execution_count": 7,
      "outputs": [
        {
          "output_type": "execute_result",
          "data": {
            "text/plain": [
              "(1309, 12)"
            ]
          },
          "metadata": {},
          "execution_count": 7
        }
      ]
    },
    {
      "cell_type": "code",
      "source": [
        "def df_splitter(df,num_rows):\n",
        "    return df[:num_rows].copy(),df[num_rows:]"
      ],
      "metadata": {
        "id": "Z7SE4i40KmjE"
      },
      "execution_count": 8,
      "outputs": []
    },
    {
      "cell_type": "code",
      "source": [
        "null_vals = df.isnull().sum()/len(df)*100\n",
        "null_vals = pd.DataFrame(null_vals)\n",
        "null_vals.reset_index(inplace = True)\n",
        "null_vals.columns = [\"Feature\",\"Percent missing\"]\n",
        "plt.figure(figsize = (8,6))\n",
        "plt.xticks(rotation=45)\n",
        "sns.barplot(x = \"Feature\",y =\"Percent missing\",data = null_vals)"
      ],
      "metadata": {
        "colab": {
          "base_uri": "https://localhost:8080/",
          "height": 445
        },
        "id": "hpkZYVZVKuLY",
        "outputId": "ed5927fd-6cdc-4512-8d20-52db2d63de96"
      },
      "execution_count": 9,
      "outputs": [
        {
          "output_type": "execute_result",
          "data": {
            "text/plain": [
              "<matplotlib.axes._subplots.AxesSubplot at 0x7fa3e46dab10>"
            ]
          },
          "metadata": {},
          "execution_count": 9
        },
        {
          "output_type": "display_data",
          "data": {
            "text/plain": [
              "<Figure size 576x432 with 1 Axes>"
            ],
            "image/png": "[encoded data removed]"
          },
          "metadata": {
            "needs_background": "light"
          }
        }
      ]
    },
    {
      "cell_type": "code",
      "source": [
        "df = df.drop(\"Cabin\",axis = 1)\n",
        "print(df.shape)\n",
        "df.head(2)\n",
        "df.info()"
      ],
      "metadata": {
        "colab": {
          "base_uri": "https://localhost:8080/"
        },
        "id": "PTCJE2fpx8Yt",
        "outputId": "23470cf8-90e0-430e-e4d9-9bf88d608284"
      },
      "execution_count": 10,
      "outputs": [
        {
          "output_type": "stream",
          "name": "stdout",
          "text": [
            "(1309, 11)\n",
            "<class 'pandas.core.frame.DataFrame'>\n",
            "RangeIndex: 1309 entries, 0 to 1308\n",
            "Data columns (total 11 columns):\n",
            " #   Column       Non-Null Count  Dtype  \n",
            "---  ------       --------------  -----  \n",
            " 0   PassengerId  1309 non-null   int64  \n",
            " 1   Survived     1309 non-null   int64  \n",
            " 2   Pclass       1309 non-null   int64  \n",
            " 3   Name         1309 non-null   object \n",
            " 4   Sex          1309 non-null   object \n",
            " 5   Age          1046 non-null   float64\n",
            " 6   SibSp        1309 non-null   int64  \n",
            " 7   Parch        1309 non-null   int64  \n",
            " 8   Ticket       1309 non-null   object \n",
            " 9   Fare         1308 non-null   float64\n",
            " 10  Embarked     1307 non-null   object \n",
            "dtypes: float64(2), int64(5), object(4)\n",
            "memory usage: 112.6+ KB\n"
          ]
        }
      ]
    },
    {
      "cell_type": "code",
      "source": [
        "def str_to_cat(df):\n",
        "    for p,q in df.items():\n",
        "        if is_string_dtype(q): \n",
        "            df[p] = q.astype('category').cat.as_ordered()\n",
        "    return df\n",
        "def df_to_nums(df, feature, null_status):\n",
        "    if not is_numeric_dtype(feature):\n",
        "        df[null_status] = feature.cat.codes + 1\n",
        "        \n",
        "def df_imputer(df, feature, null_status, null_table):\n",
        "    if is_numeric_dtype(feature):\n",
        "        if pd.isnull(feature).sum() or (null_status in null_table):\n",
        "            df[null_status+'_na'] = pd.isnull(feature)\n",
        "            filler = null_table[null_status] if null_status in null_table else feature.median()\n",
        "            df[null_status] = feature.fillna(filler)\n",
        "            null_table[null_status] = filler\n",
        "    return null_table   \n",
        "\n",
        "def df_preprocessor(df, null_table):\n",
        "    \n",
        "    if null_table is None: \n",
        "        null_table = dict()\n",
        "    for p,q in df.items(): \n",
        "        null_table = df_imputer(df, q, p, null_table)\n",
        "        #print(p+\" \"+q)\n",
        "    for p,q in df.items(): \n",
        "        df_to_nums(df, q, p)\n",
        "    df = pd.get_dummies(df, dummy_na = True)\n",
        "    res = [df, null_table]\n",
        "    return res\n",
        "#df = str_to_cat(df)\n",
        "#df,my_table = df_preprocessor(df,null_table = None)\n",
        "#print(df)\n",
        "#print(my_table)"
      ],
      "metadata": {
        "id": "wabwjYoYyA6D"
      },
      "execution_count": 11,
      "outputs": []
    },
    {
      "cell_type": "code",
      "source": [
        "df = str_to_cat(df)"
      ],
      "metadata": {
        "id": "uExG0Z3hyCGd"
      },
      "execution_count": 12,
      "outputs": []
    },
    {
      "cell_type": "code",
      "source": [
        "my_df,my_table = df_preprocessor(df,null_table = None)\n",
        "my_df.info()\n",
        "my_table"
      ],
      "metadata": {
        "colab": {
          "base_uri": "https://localhost:8080/"
        },
        "id": "v5YJc2QRypMX",
        "outputId": "ff989581-33ff-499b-f08e-b0b2b2de39c3"
      },
      "execution_count": 13,
      "outputs": [
        {
          "output_type": "stream",
          "name": "stdout",
          "text": [
            "<class 'pandas.core.frame.DataFrame'>\n",
            "RangeIndex: 1309 entries, 0 to 1308\n",
            "Data columns (total 13 columns):\n",
            " #   Column       Non-Null Count  Dtype  \n",
            "---  ------       --------------  -----  \n",
            " 0   PassengerId  1309 non-null   int64  \n",
            " 1   Survived     1309 non-null   int64  \n",
            " 2   Pclass       1309 non-null   int64  \n",
            " 3   Name         1309 non-null   int16  \n",
            " 4   Sex          1309 non-null   int8   \n",
            " 5   Age          1309 non-null   float64\n",
            " 6   SibSp        1309 non-null   int64  \n",
            " 7   Parch        1309 non-null   int64  \n",
            " 8   Ticket       1309 non-null   int16  \n",
            " 9   Fare         1309 non-null   float64\n",
            " 10  Embarked     1309 non-null   int8   \n",
            " 11  Age_na       1309 non-null   bool   \n",
            " 12  Fare_na      1309 non-null   bool   \n",
            "dtypes: bool(2), float64(2), int16(2), int64(5), int8(2)\n",
            "memory usage: 81.9 KB\n"
          ]
        },
        {
          "output_type": "execute_result",
          "data": {
            "text/plain": [
              "{'Age': 28.0, 'Fare': 14.4542}"
            ]
          },
          "metadata": {},
          "execution_count": 13
        }
      ]
    },
    {
      "cell_type": "code",
      "source": [
        "Y = my_df[\"Survived\"]\n",
        "X = my_df.drop([\"Survived\"],axis = 1)\n",
        "\n",
        "X.info()"
      ],
      "metadata": {
        "colab": {
          "base_uri": "https://localhost:8080/"
        },
        "id": "XXI7BF9gyapl",
        "outputId": "841487fb-8575-49b6-dcce-fa0a9867737a"
      },
      "execution_count": 14,
      "outputs": [
        {
          "output_type": "stream",
          "name": "stdout",
          "text": [
            "<class 'pandas.core.frame.DataFrame'>\n",
            "RangeIndex: 1309 entries, 0 to 1308\n",
            "Data columns (total 12 columns):\n",
            " #   Column       Non-Null Count  Dtype  \n",
            "---  ------       --------------  -----  \n",
            " 0   PassengerId  1309 non-null   int64  \n",
            " 1   Pclass       1309 non-null   int64  \n",
            " 2   Name         1309 non-null   int16  \n",
            " 3   Sex          1309 non-null   int8   \n",
            " 4   Age          1309 non-null   float64\n",
            " 5   SibSp        1309 non-null   int64  \n",
            " 6   Parch        1309 non-null   int64  \n",
            " 7   Ticket       1309 non-null   int16  \n",
            " 8   Fare         1309 non-null   float64\n",
            " 9   Embarked     1309 non-null   int8   \n",
            " 10  Age_na       1309 non-null   bool   \n",
            " 11  Fare_na      1309 non-null   bool   \n",
            "dtypes: bool(2), float64(2), int16(2), int64(4), int8(2)\n",
            "memory usage: 71.7 KB\n"
          ]
        }
      ]
    },
    {
      "cell_type": "code",
      "source": [
        "from sklearn import preprocessing\n",
        "X_cat = X[['PassengerId', 'Pclass', 'Name', 'Sex', 'SibSp', 'Parch',\n",
        "       'Ticket', 'Embarked', 'Age_na', 'Fare_na']]\n",
        "X_con = X.drop(X_cat,axis = 1)\n",
        "\n",
        "scaler = preprocessing.MinMaxScaler()\n",
        "X_con_sc = pd.DataFrame(scaler.fit_transform(X_con))\n",
        "print(X_con_sc)\n",
        "X_con_sc.columns = [\"Age\",\"Fare\"]\n",
        "print(X_con_sc)\n",
        "df_list = [X_cat,X_con_sc]\n",
        "print(len((df_list)))\n",
        "print(df_list)\n",
        "X_full = pd.concat(df_list,axis = 1)\n",
        "print(X_full)"
      ],
      "metadata": {
        "colab": {
          "base_uri": "https://localhost:8080/"
        },
        "id": "DTwGQYsYyekc",
        "outputId": "a452e5b5-cbe5-4928-e736-0f11712bb09d"
      },
      "execution_count": 15,
      "outputs": [
        {
          "output_type": "stream",
          "name": "stdout",
          "text": [
            "             0         1\n",
            "0     0.273456  0.014151\n",
            "1     0.473882  0.139136\n",
            "2     0.323563  0.015469\n",
            "3     0.436302  0.103644\n",
            "4     0.436302  0.015713\n",
            "...        ...       ...\n",
            "1304  0.348616  0.015713\n",
            "1305  0.486409  0.212559\n",
            "1306  0.480145  0.014151\n",
            "1307  0.348616  0.015713\n",
            "1308  0.348616  0.043640\n",
            "\n",
            "[1309 rows x 2 columns]\n",
            "           Age      Fare\n",
            "0     0.273456  0.014151\n",
            "1     0.473882  0.139136\n",
            "2     0.323563  0.015469\n",
            "3     0.436302  0.103644\n",
            "4     0.436302  0.015713\n",
            "...        ...       ...\n",
            "1304  0.348616  0.015713\n",
            "1305  0.486409  0.212559\n",
            "1306  0.480145  0.014151\n",
            "1307  0.348616  0.015713\n",
            "1308  0.348616  0.043640\n",
            "\n",
            "[1309 rows x 2 columns]\n",
            "2\n",
            "[      PassengerId  Pclass  Name  Sex  SibSp  Parch  Ticket  Embarked  Age_na  \\\n",
            "0               1       3   156    2      1      0     721         3   False   \n",
            "1               2       1   287    1      1      0     817         1   False   \n",
            "2               3       3   524    1      0      0     915         3   False   \n",
            "3               4       1   423    1      1      0      66         3   False   \n",
            "4               5       3    23    2      0      0     650         3   False   \n",
            "...           ...     ...   ...  ...    ...    ...     ...       ...     ...   \n",
            "1304         1305       3  1127    2      0      0     712         3    True   \n",
            "1305         1306       1   892    1      0      0     835         1   False   \n",
            "1306         1307       3  1047    2      0      0     873         3   False   \n",
            "1307         1308       3  1228    2      0      0     580         3    True   \n",
            "1308         1309       3   954    2      1      1     263         1    True   \n",
            "\n",
            "      Fare_na  \n",
            "0       False  \n",
            "1       False  \n",
            "2       False  \n",
            "3       False  \n",
            "4       False  \n",
            "...       ...  \n",
            "1304    False  \n",
            "1305    False  \n",
            "1306    False  \n",
            "1307    False  \n",
            "1308    False  \n",
            "\n",
            "[1309 rows x 10 columns],            Age      Fare\n",
            "0     0.273456  0.014151\n",
            "1     0.473882  0.139136\n",
            "2     0.323563  0.015469\n",
            "3     0.436302  0.103644\n",
            "4     0.436302  0.015713\n",
            "...        ...       ...\n",
            "1304  0.348616  0.015713\n",
            "1305  0.486409  0.212559\n",
            "1306  0.480145  0.014151\n",
            "1307  0.348616  0.015713\n",
            "1308  0.348616  0.043640\n",
            "\n",
            "[1309 rows x 2 columns]]\n",
            "      PassengerId  Pclass  Name  Sex  SibSp  Parch  Ticket  Embarked  Age_na  \\\n",
            "0               1       3   156    2      1      0     721         3   False   \n",
            "1               2       1   287    1      1      0     817         1   False   \n",
            "2               3       3   524    1      0      0     915         3   False   \n",
            "3               4       1   423    1      1      0      66         3   False   \n",
            "4               5       3    23    2      0      0     650         3   False   \n",
            "...           ...     ...   ...  ...    ...    ...     ...       ...     ...   \n",
            "1304         1305       3  1127    2      0      0     712         3    True   \n",
            "1305         1306       1   892    1      0      0     835         1   False   \n",
            "1306         1307       3  1047    2      0      0     873         3   False   \n",
            "1307         1308       3  1228    2      0      0     580         3    True   \n",
            "1308         1309       3   954    2      1      1     263         1    True   \n",
            "\n",
            "      Fare_na       Age      Fare  \n",
            "0       False  0.273456  0.014151  \n",
            "1       False  0.473882  0.139136  \n",
            "2       False  0.323563  0.015469  \n",
            "3       False  0.436302  0.103644  \n",
            "4       False  0.436302  0.015713  \n",
            "...       ...       ...       ...  \n",
            "1304    False  0.348616  0.015713  \n",
            "1305    False  0.486409  0.212559  \n",
            "1306    False  0.480145  0.014151  \n",
            "1307    False  0.348616  0.015713  \n",
            "1308    False  0.348616  0.043640  \n",
            "\n",
            "[1309 rows x 12 columns]\n"
          ]
        }
      ]
    },
    {
      "cell_type": "code",
      "source": [
        "X_con_sc.describe()"
      ],
      "metadata": {
        "colab": {
          "base_uri": "https://localhost:8080/",
          "height": 300
        },
        "id": "WuXA4abqygyw",
        "outputId": "0824afd0-6dd2-40e8-bdf6-1c8b61ae3b71"
      },
      "execution_count": 16,
      "outputs": [
        {
          "output_type": "execute_result",
          "data": {
            "text/plain": [
              "               Age         Fare\n",
              "count  1309.000000  1309.000000\n",
              "mean      0.367446     0.064960\n",
              "std       0.161659     0.100993\n",
              "min       0.000000     0.000000\n",
              "25%       0.273456     0.015412\n",
              "50%       0.348616     0.028213\n",
              "75%       0.436302     0.061045\n",
              "max       1.000000     1.000000"
            ],
            "text/html": [
              "\n",
              "  <div id=\"df-d803a3b6-f259-48ba-8a98-ae51b481db62\">\n",
              "    <div class=\"colab-df-container\">\n",
              "      <div>\n",
              "<style scoped>\n",
              "    .dataframe tbody tr th:only-of-type {\n",
              "        vertical-align: middle;\n",
              "    }\n",
              "\n",
              "    .dataframe tbody tr th {\n",
              "        vertical-align: top;\n",
              "    }\n",
              "\n",
              "    .dataframe thead th {\n",
              "        text-align: right;\n",
              "    }\n",
              "</style>\n",
              "<table border=\"1\" class=\"dataframe\">\n",
              "  <thead>\n",
              "    <tr style=\"text-align: right;\">\n",
              "      <th></th>\n",
              "      <th>Age</th>\n",
              "      <th>Fare</th>\n",
              "    </tr>\n",
              "  </thead>\n",
              "  <tbody>\n",
              "    <tr>\n",
              "      <th>count</th>\n",
              "      <td>1309.000000</td>\n",
              "      <td>1309.000000</td>\n",
              "    </tr>\n",
              "    <tr>\n",
              "      <th>mean</th>\n",
              "      <td>0.367446</td>\n",
              "      <td>0.064960</td>\n",
              "    </tr>\n",
              "    <tr>\n",
              "      <th>std</th>\n",
              "      <td>0.161659</td>\n",
              "      <td>0.100993</td>\n",
              "    </tr>\n",
              "    <tr>\n",
              "      <th>min</th>\n",
              "      <td>0.000000</td>\n",
              "      <td>0.000000</td>\n",
              "    </tr>\n",
              "    <tr>\n",
              "      <th>25%</th>\n",
              "      <td>0.273456</td>\n",
              "      <td>0.015412</td>\n",
              "    </tr>\n",
              "    <tr>\n",
              "      <th>50%</th>\n",
              "      <td>0.348616</td>\n",
              "      <td>0.028213</td>\n",
              "    </tr>\n",
              "    <tr>\n",
              "      <th>75%</th>\n",
              "      <td>0.436302</td>\n",
              "      <td>0.061045</td>\n",
              "    </tr>\n",
              "    <tr>\n",
              "      <th>max</th>\n",
              "      <td>1.000000</td>\n",
              "      <td>1.000000</td>\n",
              "    </tr>\n",
              "  </tbody>\n",
              "</table>\n",
              "</div>\n",
              "      <button class=\"colab-df-convert\" onclick=\"convertToInteractive('df-d803a3b6-f259-48ba-8a98-ae51b481db62')\"\n",
              "              title=\"Convert this dataframe to an interactive table.\"\n",
              "              style=\"display:none;\">\n",
              "        \n",
              "  <svg xmlns=\"http://www.w3.org/2000/svg\" height=\"24px\"viewBox=\"0 0 24 24\"\n",
              "       width=\"24px\">\n",
              "    <path d=\"M0 0h24v24H0V0z\" fill=\"none\"/>\n",
              "    <path d=\"M18.56 5.44l.94 2.06.94-2.06 2.06-.94-2.06-.94-.94-2.06-.94 2.06-2.06.94zm-11 1L8.5 8.5l.94-2.06 2.06-.94-2.06-.94L8.5 2.5l-.94 2.06-2.06.94zm10 10l.94 2.06.94-2.06 2.06-.94-2.06-.94-.94-2.06-.94 2.06-2.06.94z\"/><path d=\"M17.41 7.96l-1.37-1.37c-.4-.4-.92-.59-1.43-.59-.52 0-1.04.2-1.43.59L10.3 9.45l-7.72 7.72c-.78.78-.78 2.05 0 2.83L4 21.41c.39.39.9.59 1.41.59.51 0 1.02-.2 1.41-.59l7.78-7.78 2.81-2.81c.8-.78.8-2.07 0-2.86zM5.41 20L4 18.59l7.72-7.72 1.47 1.35L5.41 20z\"/>\n",
              "  </svg>\n",
              "      </button>\n",
              "      \n",
              "  <style>\n",
              "    .colab-df-container {\n",
              "      display:flex;\n",
              "      flex-wrap:wrap;\n",
              "      gap: 12px;\n",
              "    }\n",
              "\n",
              "    .colab-df-convert {\n",
              "      background-color: #E8F0FE;\n",
              "      border: none;\n",
              "      border-radius: 50%;\n",
              "      cursor: pointer;\n",
              "      display: none;\n",
              "      fill: #1967D2;\n",
              "      height: 32px;\n",
              "      padding: 0 0 0 0;\n",
              "      width: 32px;\n",
              "    }\n",
              "\n",
              "    .colab-df-convert:hover {\n",
              "      background-color: #E2EBFA;\n",
              "      box-shadow: 0px 1px 2px rgba(60, 64, 67, 0.3), 0px 1px 3px 1px rgba(60, 64, 67, 0.15);\n",
              "      fill: #174EA6;\n",
              "    }\n",
              "\n",
              "    [theme=dark] .colab-df-convert {\n",
              "      background-color: #3B4455;\n",
              "      fill: #D2E3FC;\n",
              "    }\n",
              "\n",
              "    [theme=dark] .colab-df-convert:hover {\n",
              "      background-color: #434B5C;\n",
              "      box-shadow: 0px 1px 3px 1px rgba(0, 0, 0, 0.15);\n",
              "      filter: drop-shadow(0px 1px 2px rgba(0, 0, 0, 0.3));\n",
              "      fill: #FFFFFF;\n",
              "    }\n",
              "  </style>\n",
              "\n",
              "      <script>\n",
              "        const buttonEl =\n",
              "          document.querySelector('#df-d803a3b6-f259-48ba-8a98-ae51b481db62 button.colab-df-convert');\n",
              "        buttonEl.style.display =\n",
              "          google.colab.kernel.accessAllowed ? 'block' : 'none';\n",
              "\n",
              "        async function convertToInteractive(key) {\n",
              "          const element = document.querySelector('#df-d803a3b6-f259-48ba-8a98-ae51b481db62');\n",
              "          const dataTable =\n",
              "            await google.colab.kernel.invokeFunction('convertToInteractive',\n",
              "                                                     [key], {});\n",
              "          if (!dataTable) return;\n",
              "\n",
              "          const docLinkHtml = 'Like what you see? Visit the ' +\n",
              "            '<a target=\"_blank\" href=https://colab.research.google.com/notebooks/data_table.ipynb>data table notebook</a>'\n",
              "            + ' to learn more about interactive tables.';\n",
              "          element.innerHTML = '';\n",
              "          dataTable['output_type'] = 'display_data';\n",
              "          await google.colab.output.renderOutput(dataTable, element);\n",
              "          const docLink = document.createElement('div');\n",
              "          docLink.innerHTML = docLinkHtml;\n",
              "          element.appendChild(docLink);\n",
              "        }\n",
              "      </script>\n",
              "    </div>\n",
              "  </div>\n",
              "  "
            ]
          },
          "metadata": {},
          "execution_count": 16
        }
      ]
    },
    {
      "cell_type": "code",
      "source": [
        "(X_train, X_valid, Y_train, Y_valid) = train_test_split(X, Y, train_size=0.85, random_state=1)"
      ],
      "metadata": {
        "id": "QbDAmfVcK6zs"
      },
      "execution_count": 17,
      "outputs": []
    },
    {
      "cell_type": "markdown",
      "source": [
        "<h1> Random Forest </h1>"
      ],
      "metadata": {
        "id": "Fj6tPouasSwB"
      }
    },
    {
      "cell_type": "code",
      "source": [
        "rf_model = RandomForestClassifier(n_jobs = -1,oob_score = False,n_estimators = 10,\n",
        "                                   max_depth = 40000,min_samples_leaf = 25)\n",
        "rf_model.fit(X_train,Y_train)"
      ],
      "metadata": {
        "colab": {
          "base_uri": "https://localhost:8080/"
        },
        "id": "gG_L1lgosWoL",
        "outputId": "1217317c-8559-4372-ff9a-f1c85af264fa"
      },
      "execution_count": 18,
      "outputs": [
        {
          "output_type": "execute_result",
          "data": {
            "text/plain": [
              "RandomForestClassifier(max_depth=40000, min_samples_leaf=25, n_estimators=10,\n",
              "                       n_jobs=-1)"
            ]
          },
          "metadata": {},
          "execution_count": 18
        }
      ]
    },
    {
      "cell_type": "code",
      "source": [
        "rf_Y_pred = rf_model.predict(X_valid)"
      ],
      "metadata": {
        "id": "ptQl3SWhsa69"
      },
      "execution_count": 19,
      "outputs": []
    },
    {
      "cell_type": "code",
      "source": [
        "from sklearn.metrics import r2_score\n",
        "#\n",
        "accuracy_score(rf_Y_pred,Y_valid)"
      ],
      "metadata": {
        "colab": {
          "base_uri": "https://localhost:8080/"
        },
        "id": "xcfg6BQEssvw",
        "outputId": "b857916f-2e92-4f02-b850-869ceb749252"
      },
      "execution_count": 20,
      "outputs": [
        {
          "output_type": "execute_result",
          "data": {
            "text/plain": [
              "0.6649746192893401"
            ]
          },
          "metadata": {},
          "execution_count": 20
        }
      ]
    },
    {
      "cell_type": "markdown",
      "source": [
        "<h1> DNN </h1>"
      ],
      "metadata": {
        "id": "Gv3HpOCEtgg2"
      }
    },
    {
      "cell_type": "code",
      "source": [
        "from sklearn import preprocessing\n",
        "scaler = preprocessing.StandardScaler().fit(X)\n",
        "X_sc = pd.DataFrame(scaler.transform(X))\n",
        "print(X_sc.shape)\n",
        "X_sc.head(2)\n",
        "\n"
      ],
      "metadata": {
        "colab": {
          "base_uri": "https://localhost:8080/",
          "height": 129
        },
        "id": "0R4Wb4Wj-pZu",
        "outputId": "f8c24d9d-cce0-48c4-9fed-00b78aed4b6a"
      },
      "execution_count": 21,
      "outputs": [
        {
          "output_type": "stream",
          "name": "stdout",
          "text": [
            "(1309, 12)\n"
          ]
        },
        {
          "output_type": "execute_result",
          "data": {
            "text/plain": [
              "         0         1         2         3         4         5      6   \\\n",
              "0 -1.730728  0.841916 -1.319550  0.743497 -0.581628  0.481288 -0.445   \n",
              "1 -1.728082 -1.546098 -0.972223 -1.344995  0.658652  0.481288 -0.445   \n",
              "\n",
              "         7         8         9         10       11  \n",
              "0  0.922332 -0.503291  0.623648 -0.501432 -0.02765  \n",
              "1  1.267701  0.734744 -1.816877 -0.501432 -0.02765  "
            ],
            "text/html": [
              "\n",
              "  <div id=\"df-f12efd02-7167-4361-ac52-d1e8ba1ee65f\">\n",
              "    <div class=\"colab-df-container\">\n",
              "      <div>\n",
              "<style scoped>\n",
              "    .dataframe tbody tr th:only-of-type {\n",
              "        vertical-align: middle;\n",
              "    }\n",
              "\n",
              "    .dataframe tbody tr th {\n",
              "        vertical-align: top;\n",
              "    }\n",
              "\n",
              "    .dataframe thead th {\n",
              "        text-align: right;\n",
              "    }\n",
              "</style>\n",
              "<table border=\"1\" class=\"dataframe\">\n",
              "  <thead>\n",
              "    <tr style=\"text-align: right;\">\n",
              "      <th></th>\n",
              "      <th>0</th>\n",
              "      <th>1</th>\n",
              "      <th>2</th>\n",
              "      <th>3</th>\n",
              "      <th>4</th>\n",
              "      <th>5</th>\n",
              "      <th>6</th>\n",
              "      <th>7</th>\n",
              "      <th>8</th>\n",
              "      <th>9</th>\n",
              "      <th>10</th>\n",
              "      <th>11</th>\n",
              "    </tr>\n",
              "  </thead>\n",
              "  <tbody>\n",
              "    <tr>\n",
              "      <th>0</th>\n",
              "      <td>-1.730728</td>\n",
              "      <td>0.841916</td>\n",
              "      <td>-1.319550</td>\n",
              "      <td>0.743497</td>\n",
              "      <td>-0.581628</td>\n",
              "      <td>0.481288</td>\n",
              "      <td>-0.445</td>\n",
              "      <td>0.922332</td>\n",
              "      <td>-0.503291</td>\n",
              "      <td>0.623648</td>\n",
              "      <td>-0.501432</td>\n",
              "      <td>-0.02765</td>\n",
              "    </tr>\n",
              "    <tr>\n",
              "      <th>1</th>\n",
              "      <td>-1.728082</td>\n",
              "      <td>-1.546098</td>\n",
              "      <td>-0.972223</td>\n",
              "      <td>-1.344995</td>\n",
              "      <td>0.658652</td>\n",
              "      <td>0.481288</td>\n",
              "      <td>-0.445</td>\n",
              "      <td>1.267701</td>\n",
              "      <td>0.734744</td>\n",
              "      <td>-1.816877</td>\n",
              "      <td>-0.501432</td>\n",
              "      <td>-0.02765</td>\n",
              "    </tr>\n",
              "  </tbody>\n",
              "</table>\n",
              "</div>\n",
              "      <button class=\"colab-df-convert\" onclick=\"convertToInteractive('df-f12efd02-7167-4361-ac52-d1e8ba1ee65f')\"\n",
              "              title=\"Convert this dataframe to an interactive table.\"\n",
              "              style=\"display:none;\">\n",
              "        \n",
              "  <svg xmlns=\"http://www.w3.org/2000/svg\" height=\"24px\"viewBox=\"0 0 24 24\"\n",
              "       width=\"24px\">\n",
              "    <path d=\"M0 0h24v24H0V0z\" fill=\"none\"/>\n",
              "    <path d=\"M18.56 5.44l.94 2.06.94-2.06 2.06-.94-2.06-.94-.94-2.06-.94 2.06-2.06.94zm-11 1L8.5 8.5l.94-2.06 2.06-.94-2.06-.94L8.5 2.5l-.94 2.06-2.06.94zm10 10l.94 2.06.94-2.06 2.06-.94-2.06-.94-.94-2.06-.94 2.06-2.06.94z\"/><path d=\"M17.41 7.96l-1.37-1.37c-.4-.4-.92-.59-1.43-.59-.52 0-1.04.2-1.43.59L10.3 9.45l-7.72 7.72c-.78.78-.78 2.05 0 2.83L4 21.41c.39.39.9.59 1.41.59.51 0 1.02-.2 1.41-.59l7.78-7.78 2.81-2.81c.8-.78.8-2.07 0-2.86zM5.41 20L4 18.59l7.72-7.72 1.47 1.35L5.41 20z\"/>\n",
              "  </svg>\n",
              "      </button>\n",
              "      \n",
              "  <style>\n",
              "    .colab-df-container {\n",
              "      display:flex;\n",
              "      flex-wrap:wrap;\n",
              "      gap: 12px;\n",
              "    }\n",
              "\n",
              "    .colab-df-convert {\n",
              "      background-color: #E8F0FE;\n",
              "      border: none;\n",
              "      border-radius: 50%;\n",
              "      cursor: pointer;\n",
              "      display: none;\n",
              "      fill: #1967D2;\n",
              "      height: 32px;\n",
              "      padding: 0 0 0 0;\n",
              "      width: 32px;\n",
              "    }\n",
              "\n",
              "    .colab-df-convert:hover {\n",
              "      background-color: #E2EBFA;\n",
              "      box-shadow: 0px 1px 2px rgba(60, 64, 67, 0.3), 0px 1px 3px 1px rgba(60, 64, 67, 0.15);\n",
              "      fill: #174EA6;\n",
              "    }\n",
              "\n",
              "    [theme=dark] .colab-df-convert {\n",
              "      background-color: #3B4455;\n",
              "      fill: #D2E3FC;\n",
              "    }\n",
              "\n",
              "    [theme=dark] .colab-df-convert:hover {\n",
              "      background-color: #434B5C;\n",
              "      box-shadow: 0px 1px 3px 1px rgba(0, 0, 0, 0.15);\n",
              "      filter: drop-shadow(0px 1px 2px rgba(0, 0, 0, 0.3));\n",
              "      fill: #FFFFFF;\n",
              "    }\n",
              "  </style>\n",
              "\n",
              "      <script>\n",
              "        const buttonEl =\n",
              "          document.querySelector('#df-f12efd02-7167-4361-ac52-d1e8ba1ee65f button.colab-df-convert');\n",
              "        buttonEl.style.display =\n",
              "          google.colab.kernel.accessAllowed ? 'block' : 'none';\n",
              "\n",
              "        async function convertToInteractive(key) {\n",
              "          const element = document.querySelector('#df-f12efd02-7167-4361-ac52-d1e8ba1ee65f');\n",
              "          const dataTable =\n",
              "            await google.colab.kernel.invokeFunction('convertToInteractive',\n",
              "                                                     [key], {});\n",
              "          if (!dataTable) return;\n",
              "\n",
              "          const docLinkHtml = 'Like what you see? Visit the ' +\n",
              "            '<a target=\"_blank\" href=https://colab.research.google.com/notebooks/data_table.ipynb>data table notebook</a>'\n",
              "            + ' to learn more about interactive tables.';\n",
              "          element.innerHTML = '';\n",
              "          dataTable['output_type'] = 'display_data';\n",
              "          await google.colab.output.renderOutput(dataTable, element);\n",
              "          const docLink = document.createElement('div');\n",
              "          docLink.innerHTML = docLinkHtml;\n",
              "          element.appendChild(docLink);\n",
              "        }\n",
              "      </script>\n",
              "    </div>\n",
              "  </div>\n",
              "  "
            ]
          },
          "metadata": {},
          "execution_count": 21
        }
      ]
    },
    {
      "cell_type": "code",
      "source": [
        "X_train,X_valid = df_splitter(X_sc,700)\n",
        "Y_train,Y_valid = df_splitter(Y,700)\n",
        "print(X_train.shape,X_valid.shape,Y_train.shape,Y_valid.shape)"
      ],
      "metadata": {
        "colab": {
          "base_uri": "https://localhost:8080/"
        },
        "id": "gqWKG1hQ_o6X",
        "outputId": "4a80de00-e8fd-4ff8-a370-8b680931cefa"
      },
      "execution_count": 22,
      "outputs": [
        {
          "output_type": "stream",
          "name": "stdout",
          "text": [
            "(700, 12) (609, 12) (700,) (609,)\n"
          ]
        }
      ]
    },
    {
      "cell_type": "code",
      "source": [
        "from keras.wrappers.scikit_learn import KerasClassifier\n",
        "from keras.models import Sequential\n",
        "from keras.layers import Dense\n",
        "DNN_model = Sequential()\n",
        "DNN_model.add(Dense(5, kernel_initializer=\"glorot_uniform\", activation='relu'))\n",
        "DNN_model.add(Dense(6, kernel_initializer=\"random_normal\",activation='relu'))\n",
        "DNN_model.add(Dense(1, kernel_initializer=\"glorot_uniform\",activation='sigmoid'))\n"
      ],
      "metadata": {
        "id": "Ed8Ti1h6tisS"
      },
      "execution_count": 23,
      "outputs": []
    },
    {
      "cell_type": "code",
      "source": [
        "DNN_model.compile(loss='binary_crossentropy', optimizer='adam', metrics=['accuracy'])\n",
        "X_cols=X_train.columns\n",
        "X_train = np.asarray(X_train).astype(np.float32)\n",
        "Y_train = np.asarray(Y_train).astype(np.float32)\n",
        "X_valid = np.asarray(X_valid).astype(np.float32)\n",
        "Y_valid = np.asarray(Y_valid).astype(np.float32)"
      ],
      "metadata": {
        "id": "07DpLJKvxKhH"
      },
      "execution_count": 24,
      "outputs": []
    },
    {
      "cell_type": "code",
      "source": [
        "DNN_model_gr= DNN_model.fit(X_train, Y_train, validation_data=(X_valid, Y_valid), epochs=100, batch_size=5)"
      ],
      "metadata": {
        "colab": {
          "base_uri": "https://localhost:8080/"
        },
        "id": "wtcxtw-xxV1D",
        "outputId": "4d02f445-1cfc-44c2-ff87-0d7dea2b76ac"
      },
      "execution_count": 25,
      "outputs": [
        {
          "output_type": "stream",
          "name": "stdout",
          "text": [
            "Epoch 1/100\n",
            "140/140 [==============================] - 1s 3ms/step - loss: 0.6780 - accuracy: 0.6086 - val_loss: 0.6737 - val_accuracy: 0.6026\n",
            "Epoch 2/100\n",
            "140/140 [==============================] - 0s 2ms/step - loss: 0.6410 - accuracy: 0.6500 - val_loss: 0.6658 - val_accuracy: 0.5878\n",
            "Epoch 3/100\n",
            "140/140 [==============================] - 0s 2ms/step - loss: 0.5905 - accuracy: 0.7157 - val_loss: 0.6745 - val_accuracy: 0.5895\n",
            "Epoch 4/100\n",
            "140/140 [==============================] - 0s 2ms/step - loss: 0.5376 - accuracy: 0.7657 - val_loss: 0.6935 - val_accuracy: 0.5977\n",
            "Epoch 5/100\n",
            "140/140 [==============================] - 0s 2ms/step - loss: 0.5010 - accuracy: 0.7829 - val_loss: 0.7084 - val_accuracy: 0.6108\n",
            "Epoch 6/100\n",
            "140/140 [==============================] - 0s 2ms/step - loss: 0.4811 - accuracy: 0.7900 - val_loss: 0.7167 - val_accuracy: 0.6108\n",
            "Epoch 7/100\n",
            "140/140 [==============================] - 0s 2ms/step - loss: 0.4694 - accuracy: 0.7986 - val_loss: 0.7270 - val_accuracy: 0.6076\n",
            "Epoch 8/100\n",
            "140/140 [==============================] - 0s 2ms/step - loss: 0.4597 - accuracy: 0.8057 - val_loss: 0.7339 - val_accuracy: 0.6010\n",
            "Epoch 9/100\n",
            "140/140 [==============================] - 0s 2ms/step - loss: 0.4545 - accuracy: 0.8043 - val_loss: 0.7384 - val_accuracy: 0.6059\n",
            "Epoch 10/100\n",
            "140/140 [==============================] - 0s 2ms/step - loss: 0.4508 - accuracy: 0.8086 - val_loss: 0.7407 - val_accuracy: 0.6059\n",
            "Epoch 11/100\n",
            "140/140 [==============================] - 0s 2ms/step - loss: 0.4483 - accuracy: 0.8057 - val_loss: 0.7431 - val_accuracy: 0.6076\n",
            "Epoch 12/100\n",
            "140/140 [==============================] - 0s 2ms/step - loss: 0.4442 - accuracy: 0.8086 - val_loss: 0.7426 - val_accuracy: 0.6108\n",
            "Epoch 13/100\n",
            "140/140 [==============================] - 0s 2ms/step - loss: 0.4418 - accuracy: 0.8129 - val_loss: 0.7465 - val_accuracy: 0.5944\n",
            "Epoch 14/100\n",
            "140/140 [==============================] - 0s 2ms/step - loss: 0.4408 - accuracy: 0.8157 - val_loss: 0.7514 - val_accuracy: 0.5977\n",
            "Epoch 15/100\n",
            "140/140 [==============================] - 0s 2ms/step - loss: 0.4385 - accuracy: 0.8157 - val_loss: 0.7557 - val_accuracy: 0.5993\n",
            "Epoch 16/100\n",
            "140/140 [==============================] - 0s 2ms/step - loss: 0.4370 - accuracy: 0.8143 - val_loss: 0.7556 - val_accuracy: 0.6043\n",
            "Epoch 17/100\n",
            "140/140 [==============================] - 0s 2ms/step - loss: 0.4360 - accuracy: 0.8200 - val_loss: 0.7596 - val_accuracy: 0.6010\n",
            "Epoch 18/100\n",
            "140/140 [==============================] - 0s 2ms/step - loss: 0.4343 - accuracy: 0.8171 - val_loss: 0.7624 - val_accuracy: 0.5961\n",
            "Epoch 19/100\n",
            "140/140 [==============================] - 0s 2ms/step - loss: 0.4332 - accuracy: 0.8186 - val_loss: 0.7626 - val_accuracy: 0.5977\n",
            "Epoch 20/100\n",
            "140/140 [==============================] - 0s 2ms/step - loss: 0.4310 - accuracy: 0.8186 - val_loss: 0.7675 - val_accuracy: 0.5993\n",
            "Epoch 21/100\n",
            "140/140 [==============================] - 0s 2ms/step - loss: 0.4296 - accuracy: 0.8171 - val_loss: 0.7709 - val_accuracy: 0.5977\n",
            "Epoch 22/100\n",
            "140/140 [==============================] - 0s 2ms/step - loss: 0.4302 - accuracy: 0.8200 - val_loss: 0.7744 - val_accuracy: 0.5977\n",
            "Epoch 23/100\n",
            "140/140 [==============================] - 0s 2ms/step - loss: 0.4280 - accuracy: 0.8200 - val_loss: 0.7788 - val_accuracy: 0.5993\n",
            "Epoch 24/100\n",
            "140/140 [==============================] - 0s 2ms/step - loss: 0.4269 - accuracy: 0.8214 - val_loss: 0.7834 - val_accuracy: 0.5961\n",
            "Epoch 25/100\n",
            "140/140 [==============================] - 0s 2ms/step - loss: 0.4256 - accuracy: 0.8229 - val_loss: 0.7846 - val_accuracy: 0.5977\n",
            "Epoch 26/100\n",
            "140/140 [==============================] - 0s 2ms/step - loss: 0.4250 - accuracy: 0.8257 - val_loss: 0.7869 - val_accuracy: 0.5977\n",
            "Epoch 27/100\n",
            "140/140 [==============================] - 0s 2ms/step - loss: 0.4240 - accuracy: 0.8186 - val_loss: 0.7873 - val_accuracy: 0.5993\n",
            "Epoch 28/100\n",
            "140/140 [==============================] - 0s 2ms/step - loss: 0.4235 - accuracy: 0.8229 - val_loss: 0.7858 - val_accuracy: 0.5993\n",
            "Epoch 29/100\n",
            "140/140 [==============================] - 0s 2ms/step - loss: 0.4221 - accuracy: 0.8243 - val_loss: 0.7980 - val_accuracy: 0.5944\n",
            "Epoch 30/100\n",
            "140/140 [==============================] - 0s 2ms/step - loss: 0.4215 - accuracy: 0.8243 - val_loss: 0.8036 - val_accuracy: 0.5895\n",
            "Epoch 31/100\n",
            "140/140 [==============================] - 0s 2ms/step - loss: 0.4199 - accuracy: 0.8329 - val_loss: 0.8032 - val_accuracy: 0.5944\n",
            "Epoch 32/100\n",
            "140/140 [==============================] - 0s 2ms/step - loss: 0.4206 - accuracy: 0.8271 - val_loss: 0.8050 - val_accuracy: 0.5961\n",
            "Epoch 33/100\n",
            "140/140 [==============================] - 0s 2ms/step - loss: 0.4187 - accuracy: 0.8257 - val_loss: 0.8121 - val_accuracy: 0.5928\n",
            "Epoch 34/100\n",
            "140/140 [==============================] - 0s 2ms/step - loss: 0.4181 - accuracy: 0.8257 - val_loss: 0.8068 - val_accuracy: 0.5961\n",
            "Epoch 35/100\n",
            "140/140 [==============================] - 0s 2ms/step - loss: 0.4185 - accuracy: 0.8229 - val_loss: 0.8140 - val_accuracy: 0.5928\n",
            "Epoch 36/100\n",
            "140/140 [==============================] - 0s 2ms/step - loss: 0.4177 - accuracy: 0.8271 - val_loss: 0.8143 - val_accuracy: 0.5928\n",
            "Epoch 37/100\n",
            "140/140 [==============================] - 0s 2ms/step - loss: 0.4157 - accuracy: 0.8300 - val_loss: 0.8267 - val_accuracy: 0.5878\n",
            "Epoch 38/100\n",
            "140/140 [==============================] - 0s 2ms/step - loss: 0.4158 - accuracy: 0.8271 - val_loss: 0.8221 - val_accuracy: 0.5895\n",
            "Epoch 39/100\n",
            "140/140 [==============================] - 0s 2ms/step - loss: 0.4156 - accuracy: 0.8271 - val_loss: 0.8204 - val_accuracy: 0.5895\n",
            "Epoch 40/100\n",
            "140/140 [==============================] - 0s 2ms/step - loss: 0.4151 - accuracy: 0.8329 - val_loss: 0.8266 - val_accuracy: 0.5829\n",
            "Epoch 41/100\n",
            "140/140 [==============================] - 0s 4ms/step - loss: 0.4142 - accuracy: 0.8257 - val_loss: 0.8264 - val_accuracy: 0.5895\n",
            "Epoch 42/100\n",
            "140/140 [==============================] - 1s 4ms/step - loss: 0.4138 - accuracy: 0.8357 - val_loss: 0.8284 - val_accuracy: 0.5928\n",
            "Epoch 43/100\n",
            "140/140 [==============================] - 1s 6ms/step - loss: 0.4132 - accuracy: 0.8286 - val_loss: 0.8317 - val_accuracy: 0.5928\n",
            "Epoch 44/100\n",
            "140/140 [==============================] - 1s 4ms/step - loss: 0.4124 - accuracy: 0.8343 - val_loss: 0.8453 - val_accuracy: 0.5846\n",
            "Epoch 45/100\n",
            "140/140 [==============================] - 1s 5ms/step - loss: 0.4134 - accuracy: 0.8286 - val_loss: 0.8436 - val_accuracy: 0.5829\n",
            "Epoch 46/100\n",
            "140/140 [==============================] - 1s 4ms/step - loss: 0.4119 - accuracy: 0.8286 - val_loss: 0.8460 - val_accuracy: 0.5829\n",
            "Epoch 47/100\n",
            "140/140 [==============================] - 1s 4ms/step - loss: 0.4113 - accuracy: 0.8300 - val_loss: 0.8405 - val_accuracy: 0.5846\n",
            "Epoch 48/100\n",
            "140/140 [==============================] - 0s 3ms/step - loss: 0.4115 - accuracy: 0.8357 - val_loss: 0.8415 - val_accuracy: 0.5796\n",
            "Epoch 49/100\n",
            "140/140 [==============================] - 1s 5ms/step - loss: 0.4105 - accuracy: 0.8329 - val_loss: 0.8457 - val_accuracy: 0.5846\n",
            "Epoch 50/100\n",
            "140/140 [==============================] - 0s 3ms/step - loss: 0.4100 - accuracy: 0.8329 - val_loss: 0.8462 - val_accuracy: 0.5862\n",
            "Epoch 51/100\n",
            "140/140 [==============================] - 1s 4ms/step - loss: 0.4105 - accuracy: 0.8329 - val_loss: 0.8516 - val_accuracy: 0.5829\n",
            "Epoch 52/100\n",
            "140/140 [==============================] - 1s 4ms/step - loss: 0.4104 - accuracy: 0.8286 - val_loss: 0.8412 - val_accuracy: 0.5878\n",
            "Epoch 53/100\n",
            "140/140 [==============================] - 0s 2ms/step - loss: 0.4097 - accuracy: 0.8329 - val_loss: 0.8488 - val_accuracy: 0.5796\n",
            "Epoch 54/100\n",
            "140/140 [==============================] - 0s 2ms/step - loss: 0.4082 - accuracy: 0.8400 - val_loss: 0.8561 - val_accuracy: 0.5813\n",
            "Epoch 55/100\n",
            "140/140 [==============================] - 0s 2ms/step - loss: 0.4085 - accuracy: 0.8271 - val_loss: 0.8445 - val_accuracy: 0.5862\n",
            "Epoch 56/100\n",
            "140/140 [==============================] - 0s 2ms/step - loss: 0.4088 - accuracy: 0.8329 - val_loss: 0.8517 - val_accuracy: 0.5813\n",
            "Epoch 57/100\n",
            "140/140 [==============================] - 0s 2ms/step - loss: 0.4082 - accuracy: 0.8314 - val_loss: 0.8450 - val_accuracy: 0.5862\n",
            "Epoch 58/100\n",
            "140/140 [==============================] - 0s 2ms/step - loss: 0.4090 - accuracy: 0.8371 - val_loss: 0.8547 - val_accuracy: 0.5829\n",
            "Epoch 59/100\n",
            "140/140 [==============================] - 0s 2ms/step - loss: 0.4077 - accuracy: 0.8386 - val_loss: 0.8548 - val_accuracy: 0.5780\n",
            "Epoch 60/100\n",
            "140/140 [==============================] - 0s 2ms/step - loss: 0.4081 - accuracy: 0.8357 - val_loss: 0.8553 - val_accuracy: 0.5780\n",
            "Epoch 61/100\n",
            "140/140 [==============================] - 0s 2ms/step - loss: 0.4072 - accuracy: 0.8314 - val_loss: 0.8480 - val_accuracy: 0.5829\n",
            "Epoch 62/100\n",
            "140/140 [==============================] - 0s 2ms/step - loss: 0.4058 - accuracy: 0.8329 - val_loss: 0.8505 - val_accuracy: 0.5813\n",
            "Epoch 63/100\n",
            "140/140 [==============================] - 0s 2ms/step - loss: 0.4071 - accuracy: 0.8300 - val_loss: 0.8483 - val_accuracy: 0.5813\n",
            "Epoch 64/100\n",
            "140/140 [==============================] - 0s 2ms/step - loss: 0.4061 - accuracy: 0.8343 - val_loss: 0.8602 - val_accuracy: 0.5747\n",
            "Epoch 65/100\n",
            "140/140 [==============================] - 0s 2ms/step - loss: 0.4056 - accuracy: 0.8357 - val_loss: 0.8546 - val_accuracy: 0.5829\n",
            "Epoch 66/100\n",
            "140/140 [==============================] - 0s 2ms/step - loss: 0.4062 - accuracy: 0.8343 - val_loss: 0.8534 - val_accuracy: 0.5796\n",
            "Epoch 67/100\n",
            "140/140 [==============================] - 0s 2ms/step - loss: 0.4045 - accuracy: 0.8357 - val_loss: 0.8584 - val_accuracy: 0.5780\n",
            "Epoch 68/100\n",
            "140/140 [==============================] - 0s 2ms/step - loss: 0.4052 - accuracy: 0.8343 - val_loss: 0.8574 - val_accuracy: 0.5747\n",
            "Epoch 69/100\n",
            "140/140 [==============================] - 0s 2ms/step - loss: 0.4046 - accuracy: 0.8286 - val_loss: 0.8560 - val_accuracy: 0.5813\n",
            "Epoch 70/100\n",
            "140/140 [==============================] - 0s 2ms/step - loss: 0.4044 - accuracy: 0.8357 - val_loss: 0.8554 - val_accuracy: 0.5796\n",
            "Epoch 71/100\n",
            "140/140 [==============================] - 0s 2ms/step - loss: 0.4042 - accuracy: 0.8329 - val_loss: 0.8536 - val_accuracy: 0.5796\n",
            "Epoch 72/100\n",
            "140/140 [==============================] - 0s 2ms/step - loss: 0.4038 - accuracy: 0.8371 - val_loss: 0.8550 - val_accuracy: 0.5747\n",
            "Epoch 73/100\n",
            "140/140 [==============================] - 0s 2ms/step - loss: 0.4035 - accuracy: 0.8314 - val_loss: 0.8568 - val_accuracy: 0.5764\n",
            "Epoch 74/100\n",
            "140/140 [==============================] - 0s 2ms/step - loss: 0.4024 - accuracy: 0.8314 - val_loss: 0.8535 - val_accuracy: 0.5764\n",
            "Epoch 75/100\n",
            "140/140 [==============================] - 0s 2ms/step - loss: 0.4025 - accuracy: 0.8343 - val_loss: 0.8577 - val_accuracy: 0.5764\n",
            "Epoch 76/100\n",
            "140/140 [==============================] - 0s 2ms/step - loss: 0.4022 - accuracy: 0.8343 - val_loss: 0.8495 - val_accuracy: 0.5813\n",
            "Epoch 77/100\n",
            "140/140 [==============================] - 0s 2ms/step - loss: 0.4023 - accuracy: 0.8386 - val_loss: 0.8552 - val_accuracy: 0.5813\n",
            "Epoch 78/100\n",
            "140/140 [==============================] - 0s 2ms/step - loss: 0.4019 - accuracy: 0.8329 - val_loss: 0.8538 - val_accuracy: 0.5829\n",
            "Epoch 79/100\n",
            "140/140 [==============================] - 0s 2ms/step - loss: 0.4015 - accuracy: 0.8400 - val_loss: 0.8534 - val_accuracy: 0.5829\n",
            "Epoch 80/100\n",
            "140/140 [==============================] - 0s 2ms/step - loss: 0.4020 - accuracy: 0.8357 - val_loss: 0.8628 - val_accuracy: 0.5813\n",
            "Epoch 81/100\n",
            "140/140 [==============================] - 0s 2ms/step - loss: 0.4009 - accuracy: 0.8386 - val_loss: 0.8709 - val_accuracy: 0.5813\n",
            "Epoch 82/100\n",
            "140/140 [==============================] - 0s 2ms/step - loss: 0.4022 - accuracy: 0.8343 - val_loss: 0.8694 - val_accuracy: 0.5796\n",
            "Epoch 83/100\n",
            "140/140 [==============================] - 0s 2ms/step - loss: 0.4013 - accuracy: 0.8271 - val_loss: 0.8579 - val_accuracy: 0.5796\n",
            "Epoch 84/100\n",
            "140/140 [==============================] - 0s 2ms/step - loss: 0.4004 - accuracy: 0.8329 - val_loss: 0.8628 - val_accuracy: 0.5780\n",
            "Epoch 85/100\n",
            "140/140 [==============================] - 0s 2ms/step - loss: 0.4009 - accuracy: 0.8314 - val_loss: 0.8642 - val_accuracy: 0.5796\n",
            "Epoch 86/100\n",
            "140/140 [==============================] - 0s 2ms/step - loss: 0.4005 - accuracy: 0.8329 - val_loss: 0.8612 - val_accuracy: 0.5780\n",
            "Epoch 87/100\n",
            "140/140 [==============================] - 0s 2ms/step - loss: 0.3993 - accuracy: 0.8357 - val_loss: 0.8644 - val_accuracy: 0.5796\n",
            "Epoch 88/100\n",
            "140/140 [==============================] - 0s 2ms/step - loss: 0.3989 - accuracy: 0.8386 - val_loss: 0.8552 - val_accuracy: 0.5813\n",
            "Epoch 89/100\n",
            "140/140 [==============================] - 0s 2ms/step - loss: 0.3986 - accuracy: 0.8371 - val_loss: 0.8566 - val_accuracy: 0.5780\n",
            "Epoch 90/100\n",
            "140/140 [==============================] - 0s 2ms/step - loss: 0.3980 - accuracy: 0.8300 - val_loss: 0.8604 - val_accuracy: 0.5764\n",
            "Epoch 91/100\n",
            "140/140 [==============================] - 0s 2ms/step - loss: 0.3992 - accuracy: 0.8371 - val_loss: 0.8712 - val_accuracy: 0.5780\n",
            "Epoch 92/100\n",
            "140/140 [==============================] - 0s 2ms/step - loss: 0.3986 - accuracy: 0.8343 - val_loss: 0.8632 - val_accuracy: 0.5764\n",
            "Epoch 93/100\n",
            "140/140 [==============================] - 0s 2ms/step - loss: 0.3986 - accuracy: 0.8300 - val_loss: 0.8628 - val_accuracy: 0.5764\n",
            "Epoch 94/100\n",
            "140/140 [==============================] - 0s 2ms/step - loss: 0.3977 - accuracy: 0.8357 - val_loss: 0.8623 - val_accuracy: 0.5764\n",
            "Epoch 95/100\n",
            "140/140 [==============================] - 0s 2ms/step - loss: 0.3980 - accuracy: 0.8329 - val_loss: 0.8585 - val_accuracy: 0.5796\n",
            "Epoch 96/100\n",
            "140/140 [==============================] - 0s 2ms/step - loss: 0.3976 - accuracy: 0.8343 - val_loss: 0.8680 - val_accuracy: 0.5780\n",
            "Epoch 97/100\n",
            "140/140 [==============================] - 0s 2ms/step - loss: 0.3975 - accuracy: 0.8329 - val_loss: 0.8613 - val_accuracy: 0.5764\n",
            "Epoch 98/100\n",
            "140/140 [==============================] - 0s 2ms/step - loss: 0.3967 - accuracy: 0.8300 - val_loss: 0.8663 - val_accuracy: 0.5764\n",
            "Epoch 99/100\n",
            "140/140 [==============================] - 0s 2ms/step - loss: 0.3967 - accuracy: 0.8386 - val_loss: 0.8648 - val_accuracy: 0.5813\n",
            "Epoch 100/100\n",
            "140/140 [==============================] - 0s 2ms/step - loss: 0.3967 - accuracy: 0.8429 - val_loss: 0.8668 - val_accuracy: 0.5796\n"
          ]
        }
      ]
    },
    {
      "cell_type": "code",
      "source": [
        "import matplotlib.pyplot as plt\n",
        "training_loss = DNN_model_gr.history['loss']\n",
        "test_loss = DNN_model_gr.history['val_loss']\n",
        "\n",
        "epoch_count = range(1, len(training_loss) + 1)\n",
        "\n",
        "plt.plot(epoch_count, training_loss, 'g--')\n",
        "plt.plot(epoch_count, test_loss, 'y-')\n",
        "plt.legend(['Train data Loss', 'Valid data Loss'])\n",
        "plt.xlabel('Epoch')\n",
        "plt.ylabel('Loss')\n",
        "plt.show();"
      ],
      "metadata": {
        "id": "XOzQdEUYxXWL",
        "colab": {
          "base_uri": "https://localhost:8080/",
          "height": 279
        },
        "outputId": "985105f0-a550-46db-aaab-31937f5673b9"
      },
      "execution_count": 26,
      "outputs": [
        {
          "output_type": "display_data",
          "data": {
            "text/plain": [
              "<Figure size 432x288 with 1 Axes>"
            ],
            "image/png": "[encoded data removed]"
          },
          "metadata": {
            "needs_background": "light"
          }
        }
      ]
    },
    {
      "cell_type": "code",
      "source": [
        "training_loss = DNN_model_gr.history['accuracy']\n",
        "test_loss = DNN_model_gr.history['val_accuracy']\n",
        "\n",
        "epoch_count = range(1, len(training_loss) + 1)\n",
        "\n",
        "plt.plot(epoch_count, training_loss, 'g--')\n",
        "plt.plot(epoch_count, test_loss, 'y-')\n",
        "plt.legend(['Training Accuracy', 'Valid Accuracy'])\n",
        "plt.xlabel('Epoch')\n",
        "plt.ylabel('Accuracy')\n",
        "plt.show();"
      ],
      "metadata": {
        "colab": {
          "base_uri": "https://localhost:8080/",
          "height": 279
        },
        "id": "XYvTsrz6AQ8t",
        "outputId": "59237da2-474d-4ce6-cd2e-23b5bdaa2d81"
      },
      "execution_count": 27,
      "outputs": [
        {
          "output_type": "display_data",
          "data": {
            "text/plain": [
              "<Figure size 432x288 with 1 Axes>"
            ],
            "image/png": "[encoded data removed]"
          },
          "metadata": {
            "needs_background": "light"
          }
        }
      ]
    },
    {
      "cell_type": "code",
      "source": [
        "scores = DNN_model.evaluate(X_valid, Y_valid)\n",
        "print (\"Accuracy: %.2f%%\" %(scores[1]*100))"
      ],
      "metadata": {
        "colab": {
          "base_uri": "https://localhost:8080/"
        },
        "id": "gj6nDo9LATGQ",
        "outputId": "6814f4df-04e9-441a-8668-8c19158611c4"
      },
      "execution_count": 28,
      "outputs": [
        {
          "output_type": "stream",
          "name": "stdout",
          "text": [
            "20/20 [==============================] - 0s 1ms/step - loss: 0.8668 - accuracy: 0.5796\n",
            "Accuracy: 57.96%\n"
          ]
        }
      ]
    },
    {
      "cell_type": "markdown",
      "source": [
        "<h1> Hybrid DNN/Random Forest </h1>"
      ],
      "metadata": {
        "id": "8Ltlj35JAWiC"
      }
    },
    {
      "cell_type": "markdown",
      "source": [
        "<p> We are creating a hybrid RF/DNN model by first training the model using the Random Forest and getting the most important features. </p>\n",
        "<p> This is then passed to the DNN. </p>"
      ],
      "metadata": {
        "id": "ahkM-t5jrENF"
      }
    },
    {
      "cell_type": "code",
      "source": [
        "rf_model_hybrid = RandomForestClassifier(n_jobs = -1, n_estimators = 5,bootstrap = True)\n",
        "rf_model_hybrid.fit(X_train,Y_train)\n"
      ],
      "metadata": {
        "colab": {
          "base_uri": "https://localhost:8080/"
        },
        "id": "YzNsxa-RAayv",
        "outputId": "687779a9-733a-4d3e-f9c7-e97acc9494fb"
      },
      "execution_count": 29,
      "outputs": [
        {
          "output_type": "execute_result",
          "data": {
            "text/plain": [
              "RandomForestClassifier(n_estimators=5, n_jobs=-1)"
            ]
          },
          "metadata": {},
          "execution_count": 29
        }
      ]
    },
    {
      "cell_type": "code",
      "source": [
        "Y_pred_hybrid = rf_model_hybrid.predict(X_valid)\n",
        "accuracy_score(Y_valid,Y_pred_hybrid)"
      ],
      "metadata": {
        "colab": {
          "base_uri": "https://localhost:8080/"
        },
        "id": "joDNtQVbAjD_",
        "outputId": "77ef4084-59ed-4361-fe26-4838c129de8c"
      },
      "execution_count": 30,
      "outputs": [
        {
          "output_type": "execute_result",
          "data": {
            "text/plain": [
              "0.5927750410509032"
            ]
          },
          "metadata": {},
          "execution_count": 30
        }
      ]
    },
    {
      "cell_type": "code",
      "source": [
        "X_train=pd.DataFrame(X_train)\n",
        "X_train.columns=X_cols\n",
        "X_valid=pd.DataFrame(X_valid)\n",
        "X_valid.columns=X_cols\n",
        "print(X_train.columns)\n",
        "feat_imps = pd.DataFrame(rf_model_hybrid.feature_importances_, index = X_train.columns,\n",
        "                                    columns=['Importance score']).sort_values('Importance score',ascending=False)\n",
        "feat_imps = feat_imps.reset_index()\n",
        "feat_imps.columns = [\"Feature\",\"Importance Score\"]\n",
        "plt.figure(figsize = (8,6))\n",
        "sns.barplot(x = \"Importance Score\",y = \"Feature\",data = feat_imps,orient = \"h\")\n"
      ],
      "metadata": {
        "colab": {
          "base_uri": "https://localhost:8080/",
          "height": 423
        },
        "id": "JXiHjKvvBW-N",
        "outputId": "3056dd81-cff8-4bc4-d2b7-dd50f699b7d7"
      },
      "execution_count": 31,
      "outputs": [
        {
          "output_type": "stream",
          "name": "stdout",
          "text": [
            "RangeIndex(start=0, stop=12, step=1)\n"
          ]
        },
        {
          "output_type": "execute_result",
          "data": {
            "text/plain": [
              "<matplotlib.axes._subplots.AxesSubplot at 0x7fa37f844e10>"
            ]
          },
          "metadata": {},
          "execution_count": 31
        },
        {
          "output_type": "display_data",
          "data": {
            "text/plain": [
              "<Figure size 576x432 with 1 Axes>"
            ],
            "image/png": "[encoded data removed]"
          },
          "metadata": {
            "needs_background": "light"
          }
        }
      ]
    },
    {
      "cell_type": "code",
      "source": [
        "print(X_train.columns)\n"
      ],
      "metadata": {
        "colab": {
          "base_uri": "https://localhost:8080/"
        },
        "id": "9J24NSH2nS-E",
        "outputId": "ec60c870-93f5-4ee3-8bb9-595c278f0962"
      },
      "execution_count": 32,
      "outputs": [
        {
          "output_type": "stream",
          "name": "stdout",
          "text": [
            "RangeIndex(start=0, stop=12, step=1)\n"
          ]
        }
      ]
    },
    {
      "cell_type": "code",
      "source": [
        "X_train_hybrid=X_train[[0,1,2,3,4,7,8]]\n",
        "X_valid_hybrid=X_valid[[0,1,2,3,4,7,8]]\n",
        "X_valid_hybrid.shape\n",
        "Y_valid.shape"
      ],
      "metadata": {
        "colab": {
          "base_uri": "https://localhost:8080/"
        },
        "id": "C3wBw8l2BZBw",
        "outputId": "f81f744c-e18f-4a51-b8aa-71d32bbff4f3"
      },
      "execution_count": 33,
      "outputs": [
        {
          "output_type": "execute_result",
          "data": {
            "text/plain": [
              "(609,)"
            ]
          },
          "metadata": {},
          "execution_count": 33
        }
      ]
    },
    {
      "cell_type": "code",
      "source": [
        "DNN_model_init = Sequential()\n",
        "DNN_model_init.add(Dense(12, kernel_initializer=\"glorot_uniform\", activation='relu'))\n",
        "DNN_model_init.add(Dense(5, kernel_initializer=\"random_normal\",activation='relu'))\n",
        "DNN_model_init.add(Dense(1, kernel_initializer=\"glorot_uniform\",activation='sigmoid'))"
      ],
      "metadata": {
        "id": "kt6ewV0LCohQ"
      },
      "execution_count": 34,
      "outputs": []
    },
    {
      "cell_type": "code",
      "source": [
        "DNN_model_init.compile(loss='binary_crossentropy', optimizer='adam', metrics=['accuracy'])"
      ],
      "metadata": {
        "id": "VVXRI-e6Cybc"
      },
      "execution_count": 35,
      "outputs": []
    },
    {
      "cell_type": "code",
      "source": [
        "DNN_model_hybrid= DNN_model_init.fit(X_train_hybrid, Y_train, validation_data=(X_valid_hybrid, Y_valid), epochs=150, batch_size=5)"
      ],
      "metadata": {
        "colab": {
          "base_uri": "https://localhost:8080/"
        },
        "id": "50MFsyxoC1Ax",
        "outputId": "37516c39-a772-4c7b-c33e-c31c993d5aca"
      },
      "execution_count": 36,
      "outputs": [
        {
          "output_type": "stream",
          "name": "stdout",
          "text": [
            "Epoch 1/150\n",
            "140/140 [==============================] - 1s 3ms/step - loss: 0.6477 - accuracy: 0.7129 - val_loss: 0.6680 - val_accuracy: 0.6108\n",
            "Epoch 2/150\n",
            "140/140 [==============================] - 0s 2ms/step - loss: 0.5511 - accuracy: 0.7914 - val_loss: 0.6669 - val_accuracy: 0.5993\n",
            "Epoch 3/150\n",
            "140/140 [==============================] - 0s 2ms/step - loss: 0.4910 - accuracy: 0.7914 - val_loss: 0.6973 - val_accuracy: 0.5961\n",
            "Epoch 4/150\n",
            "140/140 [==============================] - 0s 2ms/step - loss: 0.4717 - accuracy: 0.7943 - val_loss: 0.7107 - val_accuracy: 0.6108\n",
            "Epoch 5/150\n",
            "140/140 [==============================] - 0s 2ms/step - loss: 0.4622 - accuracy: 0.7857 - val_loss: 0.7213 - val_accuracy: 0.6059\n",
            "Epoch 6/150\n",
            "140/140 [==============================] - 0s 2ms/step - loss: 0.4586 - accuracy: 0.7943 - val_loss: 0.7340 - val_accuracy: 0.6026\n",
            "Epoch 7/150\n",
            "140/140 [==============================] - 0s 2ms/step - loss: 0.4539 - accuracy: 0.7957 - val_loss: 0.7397 - val_accuracy: 0.6010\n",
            "Epoch 8/150\n",
            "140/140 [==============================] - 0s 2ms/step - loss: 0.4500 - accuracy: 0.7986 - val_loss: 0.7605 - val_accuracy: 0.5961\n",
            "Epoch 9/150\n",
            "140/140 [==============================] - 0s 2ms/step - loss: 0.4479 - accuracy: 0.8000 - val_loss: 0.7532 - val_accuracy: 0.5977\n",
            "Epoch 10/150\n",
            "140/140 [==============================] - 0s 2ms/step - loss: 0.4445 - accuracy: 0.8000 - val_loss: 0.7636 - val_accuracy: 0.6010\n",
            "Epoch 11/150\n",
            "140/140 [==============================] - 0s 2ms/step - loss: 0.4428 - accuracy: 0.7957 - val_loss: 0.7697 - val_accuracy: 0.6026\n",
            "Epoch 12/150\n",
            "140/140 [==============================] - 0s 2ms/step - loss: 0.4408 - accuracy: 0.8043 - val_loss: 0.7802 - val_accuracy: 0.6026\n",
            "Epoch 13/150\n",
            "140/140 [==============================] - 0s 2ms/step - loss: 0.4400 - accuracy: 0.8029 - val_loss: 0.7858 - val_accuracy: 0.6026\n",
            "Epoch 14/150\n",
            "140/140 [==============================] - 0s 2ms/step - loss: 0.4366 - accuracy: 0.8057 - val_loss: 0.7917 - val_accuracy: 0.6108\n",
            "Epoch 15/150\n",
            "140/140 [==============================] - 0s 2ms/step - loss: 0.4351 - accuracy: 0.8086 - val_loss: 0.8029 - val_accuracy: 0.6108\n",
            "Epoch 16/150\n",
            "140/140 [==============================] - 0s 2ms/step - loss: 0.4335 - accuracy: 0.8129 - val_loss: 0.8052 - val_accuracy: 0.6076\n",
            "Epoch 17/150\n",
            "140/140 [==============================] - 0s 2ms/step - loss: 0.4313 - accuracy: 0.8100 - val_loss: 0.8121 - val_accuracy: 0.6043\n",
            "Epoch 18/150\n",
            "140/140 [==============================] - 0s 2ms/step - loss: 0.4304 - accuracy: 0.8157 - val_loss: 0.8125 - val_accuracy: 0.6092\n",
            "Epoch 19/150\n",
            "140/140 [==============================] - 0s 2ms/step - loss: 0.4293 - accuracy: 0.8100 - val_loss: 0.8212 - val_accuracy: 0.6076\n",
            "Epoch 20/150\n",
            "140/140 [==============================] - 0s 2ms/step - loss: 0.4280 - accuracy: 0.8143 - val_loss: 0.8367 - val_accuracy: 0.6043\n",
            "Epoch 21/150\n",
            "140/140 [==============================] - 0s 2ms/step - loss: 0.4268 - accuracy: 0.8114 - val_loss: 0.8309 - val_accuracy: 0.6076\n",
            "Epoch 22/150\n",
            "140/140 [==============================] - 0s 2ms/step - loss: 0.4259 - accuracy: 0.8143 - val_loss: 0.8450 - val_accuracy: 0.6092\n",
            "Epoch 23/150\n",
            "140/140 [==============================] - 0s 2ms/step - loss: 0.4249 - accuracy: 0.8114 - val_loss: 0.8435 - val_accuracy: 0.6076\n",
            "Epoch 24/150\n",
            "140/140 [==============================] - 0s 2ms/step - loss: 0.4236 - accuracy: 0.8186 - val_loss: 0.8477 - val_accuracy: 0.6043\n",
            "Epoch 25/150\n",
            "140/140 [==============================] - 0s 2ms/step - loss: 0.4235 - accuracy: 0.8171 - val_loss: 0.8634 - val_accuracy: 0.6059\n",
            "Epoch 26/150\n",
            "140/140 [==============================] - 0s 2ms/step - loss: 0.4235 - accuracy: 0.8200 - val_loss: 0.8593 - val_accuracy: 0.6076\n",
            "Epoch 27/150\n",
            "140/140 [==============================] - 0s 2ms/step - loss: 0.4219 - accuracy: 0.8171 - val_loss: 0.8637 - val_accuracy: 0.6108\n",
            "Epoch 28/150\n",
            "140/140 [==============================] - 0s 2ms/step - loss: 0.4209 - accuracy: 0.8271 - val_loss: 0.8732 - val_accuracy: 0.6092\n",
            "Epoch 29/150\n",
            "140/140 [==============================] - 0s 2ms/step - loss: 0.4195 - accuracy: 0.8214 - val_loss: 0.8799 - val_accuracy: 0.6076\n",
            "Epoch 30/150\n",
            "140/140 [==============================] - 0s 2ms/step - loss: 0.4205 - accuracy: 0.8214 - val_loss: 0.8861 - val_accuracy: 0.6026\n",
            "Epoch 31/150\n",
            "140/140 [==============================] - 0s 2ms/step - loss: 0.4197 - accuracy: 0.8229 - val_loss: 0.8913 - val_accuracy: 0.6010\n",
            "Epoch 32/150\n",
            "140/140 [==============================] - 0s 2ms/step - loss: 0.4190 - accuracy: 0.8200 - val_loss: 0.8907 - val_accuracy: 0.6026\n",
            "Epoch 33/150\n",
            "140/140 [==============================] - 0s 2ms/step - loss: 0.4184 - accuracy: 0.8229 - val_loss: 0.9000 - val_accuracy: 0.6043\n",
            "Epoch 34/150\n",
            "140/140 [==============================] - 0s 2ms/step - loss: 0.4171 - accuracy: 0.8286 - val_loss: 0.8971 - val_accuracy: 0.6010\n",
            "Epoch 35/150\n",
            "140/140 [==============================] - 0s 2ms/step - loss: 0.4180 - accuracy: 0.8157 - val_loss: 0.9018 - val_accuracy: 0.6010\n",
            "Epoch 36/150\n",
            "140/140 [==============================] - 0s 2ms/step - loss: 0.4174 - accuracy: 0.8243 - val_loss: 0.9152 - val_accuracy: 0.6010\n",
            "Epoch 37/150\n",
            "140/140 [==============================] - 0s 2ms/step - loss: 0.4172 - accuracy: 0.8257 - val_loss: 0.9127 - val_accuracy: 0.6043\n",
            "Epoch 38/150\n",
            "140/140 [==============================] - 0s 2ms/step - loss: 0.4179 - accuracy: 0.8171 - val_loss: 0.9126 - val_accuracy: 0.5993\n",
            "Epoch 39/150\n",
            "140/140 [==============================] - 0s 2ms/step - loss: 0.4156 - accuracy: 0.8200 - val_loss: 0.9159 - val_accuracy: 0.5993\n",
            "Epoch 40/150\n",
            "140/140 [==============================] - 0s 2ms/step - loss: 0.4152 - accuracy: 0.8300 - val_loss: 0.9250 - val_accuracy: 0.6059\n",
            "Epoch 41/150\n",
            "140/140 [==============================] - 0s 2ms/step - loss: 0.4154 - accuracy: 0.8271 - val_loss: 0.9187 - val_accuracy: 0.5993\n",
            "Epoch 42/150\n",
            "140/140 [==============================] - 0s 2ms/step - loss: 0.4141 - accuracy: 0.8229 - val_loss: 0.9283 - val_accuracy: 0.5993\n",
            "Epoch 43/150\n",
            "140/140 [==============================] - 0s 2ms/step - loss: 0.4143 - accuracy: 0.8243 - val_loss: 0.9298 - val_accuracy: 0.6010\n",
            "Epoch 44/150\n",
            "140/140 [==============================] - 0s 2ms/step - loss: 0.4133 - accuracy: 0.8314 - val_loss: 0.9352 - val_accuracy: 0.6010\n",
            "Epoch 45/150\n",
            "140/140 [==============================] - 0s 2ms/step - loss: 0.4137 - accuracy: 0.8257 - val_loss: 0.9395 - val_accuracy: 0.6026\n",
            "Epoch 46/150\n",
            "140/140 [==============================] - 0s 2ms/step - loss: 0.4126 - accuracy: 0.8300 - val_loss: 0.9423 - val_accuracy: 0.6043\n",
            "Epoch 47/150\n",
            "140/140 [==============================] - 0s 2ms/step - loss: 0.4131 - accuracy: 0.8243 - val_loss: 0.9519 - val_accuracy: 0.5993\n",
            "Epoch 48/150\n",
            "140/140 [==============================] - 0s 2ms/step - loss: 0.4131 - accuracy: 0.8257 - val_loss: 0.9447 - val_accuracy: 0.6043\n",
            "Epoch 49/150\n",
            "140/140 [==============================] - 0s 2ms/step - loss: 0.4125 - accuracy: 0.8243 - val_loss: 0.9545 - val_accuracy: 0.6010\n",
            "Epoch 50/150\n",
            "140/140 [==============================] - 0s 2ms/step - loss: 0.4113 - accuracy: 0.8243 - val_loss: 0.9629 - val_accuracy: 0.6010\n",
            "Epoch 51/150\n",
            "140/140 [==============================] - 0s 2ms/step - loss: 0.4121 - accuracy: 0.8257 - val_loss: 0.9689 - val_accuracy: 0.5993\n",
            "Epoch 52/150\n",
            "140/140 [==============================] - 0s 2ms/step - loss: 0.4095 - accuracy: 0.8286 - val_loss: 0.9529 - val_accuracy: 0.6026\n",
            "Epoch 53/150\n",
            "140/140 [==============================] - 0s 2ms/step - loss: 0.4097 - accuracy: 0.8329 - val_loss: 0.9695 - val_accuracy: 0.6043\n",
            "Epoch 54/150\n",
            "140/140 [==============================] - 0s 2ms/step - loss: 0.4099 - accuracy: 0.8286 - val_loss: 0.9766 - val_accuracy: 0.6043\n",
            "Epoch 55/150\n",
            "140/140 [==============================] - 0s 2ms/step - loss: 0.4095 - accuracy: 0.8257 - val_loss: 0.9920 - val_accuracy: 0.6043\n",
            "Epoch 56/150\n",
            "140/140 [==============================] - 0s 2ms/step - loss: 0.4096 - accuracy: 0.8329 - val_loss: 0.9864 - val_accuracy: 0.6026\n",
            "Epoch 57/150\n",
            "140/140 [==============================] - 0s 2ms/step - loss: 0.4092 - accuracy: 0.8300 - val_loss: 0.9948 - val_accuracy: 0.6010\n",
            "Epoch 58/150\n",
            "140/140 [==============================] - 0s 2ms/step - loss: 0.4082 - accuracy: 0.8271 - val_loss: 0.9910 - val_accuracy: 0.6043\n",
            "Epoch 59/150\n",
            "140/140 [==============================] - 0s 3ms/step - loss: 0.4093 - accuracy: 0.8314 - val_loss: 0.9991 - val_accuracy: 0.6010\n",
            "Epoch 60/150\n",
            "140/140 [==============================] - 0s 3ms/step - loss: 0.4075 - accuracy: 0.8343 - val_loss: 1.0035 - val_accuracy: 0.6043\n",
            "Epoch 61/150\n",
            "140/140 [==============================] - 0s 3ms/step - loss: 0.4071 - accuracy: 0.8314 - val_loss: 0.9925 - val_accuracy: 0.6059\n",
            "Epoch 62/150\n",
            "140/140 [==============================] - 0s 3ms/step - loss: 0.4075 - accuracy: 0.8271 - val_loss: 1.0031 - val_accuracy: 0.6026\n",
            "Epoch 63/150\n",
            "140/140 [==============================] - 0s 2ms/step - loss: 0.4063 - accuracy: 0.8329 - val_loss: 1.0086 - val_accuracy: 0.6010\n",
            "Epoch 64/150\n",
            "140/140 [==============================] - 0s 2ms/step - loss: 0.4074 - accuracy: 0.8271 - val_loss: 1.0212 - val_accuracy: 0.6010\n",
            "Epoch 65/150\n",
            "140/140 [==============================] - 0s 2ms/step - loss: 0.4063 - accuracy: 0.8314 - val_loss: 1.0225 - val_accuracy: 0.6026\n",
            "Epoch 66/150\n",
            "140/140 [==============================] - 0s 2ms/step - loss: 0.4066 - accuracy: 0.8229 - val_loss: 1.0253 - val_accuracy: 0.5993\n",
            "Epoch 67/150\n",
            "140/140 [==============================] - 0s 2ms/step - loss: 0.4047 - accuracy: 0.8329 - val_loss: 1.0162 - val_accuracy: 0.6026\n",
            "Epoch 68/150\n",
            "140/140 [==============================] - 0s 2ms/step - loss: 0.4051 - accuracy: 0.8300 - val_loss: 1.0288 - val_accuracy: 0.6010\n",
            "Epoch 69/150\n",
            "140/140 [==============================] - 0s 2ms/step - loss: 0.4050 - accuracy: 0.8314 - val_loss: 1.0361 - val_accuracy: 0.6026\n",
            "Epoch 70/150\n",
            "140/140 [==============================] - 0s 2ms/step - loss: 0.4054 - accuracy: 0.8271 - val_loss: 1.0495 - val_accuracy: 0.6010\n",
            "Epoch 71/150\n",
            "140/140 [==============================] - 0s 2ms/step - loss: 0.4050 - accuracy: 0.8286 - val_loss: 1.0520 - val_accuracy: 0.5993\n",
            "Epoch 72/150\n",
            "140/140 [==============================] - 0s 2ms/step - loss: 0.4043 - accuracy: 0.8314 - val_loss: 1.0465 - val_accuracy: 0.6010\n",
            "Epoch 73/150\n",
            "140/140 [==============================] - 0s 2ms/step - loss: 0.4040 - accuracy: 0.8271 - val_loss: 1.0537 - val_accuracy: 0.5993\n",
            "Epoch 74/150\n",
            "140/140 [==============================] - 0s 2ms/step - loss: 0.4043 - accuracy: 0.8314 - val_loss: 1.0623 - val_accuracy: 0.6010\n",
            "Epoch 75/150\n",
            "140/140 [==============================] - 0s 2ms/step - loss: 0.4038 - accuracy: 0.8300 - val_loss: 1.0515 - val_accuracy: 0.6010\n",
            "Epoch 76/150\n",
            "140/140 [==============================] - 0s 2ms/step - loss: 0.4038 - accuracy: 0.8229 - val_loss: 1.0685 - val_accuracy: 0.6010\n",
            "Epoch 77/150\n",
            "140/140 [==============================] - 0s 2ms/step - loss: 0.4031 - accuracy: 0.8300 - val_loss: 1.0585 - val_accuracy: 0.6026\n",
            "Epoch 78/150\n",
            "140/140 [==============================] - 0s 2ms/step - loss: 0.4023 - accuracy: 0.8314 - val_loss: 1.0766 - val_accuracy: 0.6010\n",
            "Epoch 79/150\n",
            "140/140 [==============================] - 0s 2ms/step - loss: 0.4018 - accuracy: 0.8286 - val_loss: 1.0708 - val_accuracy: 0.6010\n",
            "Epoch 80/150\n",
            "140/140 [==============================] - 0s 2ms/step - loss: 0.4011 - accuracy: 0.8286 - val_loss: 1.0815 - val_accuracy: 0.5993\n",
            "Epoch 81/150\n",
            "140/140 [==============================] - 0s 2ms/step - loss: 0.4000 - accuracy: 0.8357 - val_loss: 1.0995 - val_accuracy: 0.5977\n",
            "Epoch 82/150\n",
            "140/140 [==============================] - 0s 2ms/step - loss: 0.4019 - accuracy: 0.8314 - val_loss: 1.0979 - val_accuracy: 0.5993\n",
            "Epoch 83/150\n",
            "140/140 [==============================] - 0s 2ms/step - loss: 0.3994 - accuracy: 0.8343 - val_loss: 1.0951 - val_accuracy: 0.6010\n",
            "Epoch 84/150\n",
            "140/140 [==============================] - 0s 2ms/step - loss: 0.3998 - accuracy: 0.8314 - val_loss: 1.0983 - val_accuracy: 0.5977\n",
            "Epoch 85/150\n",
            "140/140 [==============================] - 0s 2ms/step - loss: 0.3992 - accuracy: 0.8329 - val_loss: 1.1194 - val_accuracy: 0.5961\n",
            "Epoch 86/150\n",
            "140/140 [==============================] - 0s 2ms/step - loss: 0.3988 - accuracy: 0.8357 - val_loss: 1.1045 - val_accuracy: 0.5993\n",
            "Epoch 87/150\n",
            "140/140 [==============================] - 0s 2ms/step - loss: 0.3984 - accuracy: 0.8329 - val_loss: 1.1115 - val_accuracy: 0.5993\n",
            "Epoch 88/150\n",
            "140/140 [==============================] - 0s 2ms/step - loss: 0.3991 - accuracy: 0.8357 - val_loss: 1.1014 - val_accuracy: 0.5993\n",
            "Epoch 89/150\n",
            "140/140 [==============================] - 0s 2ms/step - loss: 0.3978 - accuracy: 0.8329 - val_loss: 1.1240 - val_accuracy: 0.6026\n",
            "Epoch 90/150\n",
            "140/140 [==============================] - 0s 2ms/step - loss: 0.3975 - accuracy: 0.8329 - val_loss: 1.1442 - val_accuracy: 0.6010\n",
            "Epoch 91/150\n",
            "140/140 [==============================] - 0s 2ms/step - loss: 0.3977 - accuracy: 0.8357 - val_loss: 1.1346 - val_accuracy: 0.6010\n",
            "Epoch 92/150\n",
            "140/140 [==============================] - 0s 2ms/step - loss: 0.3965 - accuracy: 0.8386 - val_loss: 1.1493 - val_accuracy: 0.5993\n",
            "Epoch 93/150\n",
            "140/140 [==============================] - 0s 2ms/step - loss: 0.3961 - accuracy: 0.8314 - val_loss: 1.1467 - val_accuracy: 0.5993\n",
            "Epoch 94/150\n",
            "140/140 [==============================] - 0s 2ms/step - loss: 0.3955 - accuracy: 0.8386 - val_loss: 1.1586 - val_accuracy: 0.5977\n",
            "Epoch 95/150\n",
            "140/140 [==============================] - 0s 2ms/step - loss: 0.3962 - accuracy: 0.8300 - val_loss: 1.1587 - val_accuracy: 0.5993\n",
            "Epoch 96/150\n",
            "140/140 [==============================] - 0s 2ms/step - loss: 0.3959 - accuracy: 0.8357 - val_loss: 1.1526 - val_accuracy: 0.5993\n",
            "Epoch 97/150\n",
            "140/140 [==============================] - 0s 2ms/step - loss: 0.3947 - accuracy: 0.8314 - val_loss: 1.1652 - val_accuracy: 0.6010\n",
            "Epoch 98/150\n",
            "140/140 [==============================] - 0s 2ms/step - loss: 0.3947 - accuracy: 0.8371 - val_loss: 1.1742 - val_accuracy: 0.6010\n",
            "Epoch 99/150\n",
            "140/140 [==============================] - 0s 2ms/step - loss: 0.3945 - accuracy: 0.8286 - val_loss: 1.1646 - val_accuracy: 0.6010\n",
            "Epoch 100/150\n",
            "140/140 [==============================] - 0s 2ms/step - loss: 0.3941 - accuracy: 0.8429 - val_loss: 1.1850 - val_accuracy: 0.5993\n",
            "Epoch 101/150\n",
            "140/140 [==============================] - 0s 2ms/step - loss: 0.3942 - accuracy: 0.8443 - val_loss: 1.1887 - val_accuracy: 0.6010\n",
            "Epoch 102/150\n",
            "140/140 [==============================] - 0s 2ms/step - loss: 0.3923 - accuracy: 0.8329 - val_loss: 1.1999 - val_accuracy: 0.6010\n",
            "Epoch 103/150\n",
            "140/140 [==============================] - 0s 2ms/step - loss: 0.3935 - accuracy: 0.8357 - val_loss: 1.1979 - val_accuracy: 0.5993\n",
            "Epoch 104/150\n",
            "140/140 [==============================] - 0s 2ms/step - loss: 0.3939 - accuracy: 0.8357 - val_loss: 1.1978 - val_accuracy: 0.6010\n",
            "Epoch 105/150\n",
            "140/140 [==============================] - 0s 2ms/step - loss: 0.3932 - accuracy: 0.8386 - val_loss: 1.2045 - val_accuracy: 0.6010\n",
            "Epoch 106/150\n",
            "140/140 [==============================] - 0s 2ms/step - loss: 0.3915 - accuracy: 0.8400 - val_loss: 1.2204 - val_accuracy: 0.5993\n",
            "Epoch 107/150\n",
            "140/140 [==============================] - 0s 2ms/step - loss: 0.3916 - accuracy: 0.8386 - val_loss: 1.2247 - val_accuracy: 0.5977\n",
            "Epoch 108/150\n",
            "140/140 [==============================] - 0s 2ms/step - loss: 0.3917 - accuracy: 0.8343 - val_loss: 1.2238 - val_accuracy: 0.5993\n",
            "Epoch 109/150\n",
            "140/140 [==============================] - 0s 2ms/step - loss: 0.3916 - accuracy: 0.8414 - val_loss: 1.2277 - val_accuracy: 0.6010\n",
            "Epoch 110/150\n",
            "140/140 [==============================] - 0s 2ms/step - loss: 0.3911 - accuracy: 0.8414 - val_loss: 1.2399 - val_accuracy: 0.5977\n",
            "Epoch 111/150\n",
            "140/140 [==============================] - 0s 2ms/step - loss: 0.3908 - accuracy: 0.8443 - val_loss: 1.2456 - val_accuracy: 0.5977\n",
            "Epoch 112/150\n",
            "140/140 [==============================] - 0s 2ms/step - loss: 0.3903 - accuracy: 0.8343 - val_loss: 1.2420 - val_accuracy: 0.5993\n",
            "Epoch 113/150\n",
            "140/140 [==============================] - 0s 2ms/step - loss: 0.3900 - accuracy: 0.8400 - val_loss: 1.2350 - val_accuracy: 0.5961\n",
            "Epoch 114/150\n",
            "140/140 [==============================] - 0s 2ms/step - loss: 0.3904 - accuracy: 0.8414 - val_loss: 1.2546 - val_accuracy: 0.5977\n",
            "Epoch 115/150\n",
            "140/140 [==============================] - 0s 2ms/step - loss: 0.3885 - accuracy: 0.8386 - val_loss: 1.2400 - val_accuracy: 0.5961\n",
            "Epoch 116/150\n",
            "140/140 [==============================] - 0s 2ms/step - loss: 0.3880 - accuracy: 0.8429 - val_loss: 1.2503 - val_accuracy: 0.5993\n",
            "Epoch 117/150\n",
            "140/140 [==============================] - 0s 2ms/step - loss: 0.3881 - accuracy: 0.8386 - val_loss: 1.2355 - val_accuracy: 0.5977\n",
            "Epoch 118/150\n",
            "140/140 [==============================] - 0s 2ms/step - loss: 0.3888 - accuracy: 0.8386 - val_loss: 1.2706 - val_accuracy: 0.5993\n",
            "Epoch 119/150\n",
            "140/140 [==============================] - 0s 2ms/step - loss: 0.3878 - accuracy: 0.8414 - val_loss: 1.2702 - val_accuracy: 0.5993\n",
            "Epoch 120/150\n",
            "140/140 [==============================] - 0s 2ms/step - loss: 0.3874 - accuracy: 0.8329 - val_loss: 1.2758 - val_accuracy: 0.5961\n",
            "Epoch 121/150\n",
            "140/140 [==============================] - 0s 2ms/step - loss: 0.3869 - accuracy: 0.8386 - val_loss: 1.2690 - val_accuracy: 0.5993\n",
            "Epoch 122/150\n",
            "140/140 [==============================] - 0s 2ms/step - loss: 0.3866 - accuracy: 0.8400 - val_loss: 1.2874 - val_accuracy: 0.5944\n",
            "Epoch 123/150\n",
            "140/140 [==============================] - 0s 2ms/step - loss: 0.3862 - accuracy: 0.8400 - val_loss: 1.2887 - val_accuracy: 0.5928\n",
            "Epoch 124/150\n",
            "140/140 [==============================] - 0s 2ms/step - loss: 0.3872 - accuracy: 0.8414 - val_loss: 1.2839 - val_accuracy: 0.5911\n",
            "Epoch 125/150\n",
            "140/140 [==============================] - 0s 2ms/step - loss: 0.3851 - accuracy: 0.8429 - val_loss: 1.3024 - val_accuracy: 0.5911\n",
            "Epoch 126/150\n",
            "140/140 [==============================] - 0s 2ms/step - loss: 0.3837 - accuracy: 0.8386 - val_loss: 1.2906 - val_accuracy: 0.5928\n",
            "Epoch 127/150\n",
            "140/140 [==============================] - 0s 2ms/step - loss: 0.3849 - accuracy: 0.8429 - val_loss: 1.3003 - val_accuracy: 0.5895\n",
            "Epoch 128/150\n",
            "140/140 [==============================] - 0s 2ms/step - loss: 0.3850 - accuracy: 0.8443 - val_loss: 1.3188 - val_accuracy: 0.5862\n",
            "Epoch 129/150\n",
            "140/140 [==============================] - 0s 2ms/step - loss: 0.3848 - accuracy: 0.8457 - val_loss: 1.3120 - val_accuracy: 0.5862\n",
            "Epoch 130/150\n",
            "140/140 [==============================] - 0s 2ms/step - loss: 0.3825 - accuracy: 0.8471 - val_loss: 1.3200 - val_accuracy: 0.5829\n",
            "Epoch 131/150\n",
            "140/140 [==============================] - 0s 2ms/step - loss: 0.3830 - accuracy: 0.8429 - val_loss: 1.3312 - val_accuracy: 0.5846\n",
            "Epoch 132/150\n",
            "140/140 [==============================] - 0s 2ms/step - loss: 0.3824 - accuracy: 0.8471 - val_loss: 1.3267 - val_accuracy: 0.5862\n",
            "Epoch 133/150\n",
            "140/140 [==============================] - 0s 2ms/step - loss: 0.3846 - accuracy: 0.8457 - val_loss: 1.3265 - val_accuracy: 0.5829\n",
            "Epoch 134/150\n",
            "140/140 [==============================] - 0s 2ms/step - loss: 0.3831 - accuracy: 0.8443 - val_loss: 1.3397 - val_accuracy: 0.5796\n",
            "Epoch 135/150\n",
            "140/140 [==============================] - 0s 2ms/step - loss: 0.3808 - accuracy: 0.8486 - val_loss: 1.3545 - val_accuracy: 0.5829\n",
            "Epoch 136/150\n",
            "140/140 [==============================] - 0s 2ms/step - loss: 0.3823 - accuracy: 0.8429 - val_loss: 1.3501 - val_accuracy: 0.5796\n",
            "Epoch 137/150\n",
            "140/140 [==============================] - 0s 2ms/step - loss: 0.3800 - accuracy: 0.8471 - val_loss: 1.3540 - val_accuracy: 0.5796\n",
            "Epoch 138/150\n",
            "140/140 [==============================] - 0s 2ms/step - loss: 0.3802 - accuracy: 0.8457 - val_loss: 1.3607 - val_accuracy: 0.5829\n",
            "Epoch 139/150\n",
            "140/140 [==============================] - 0s 2ms/step - loss: 0.3794 - accuracy: 0.8486 - val_loss: 1.3625 - val_accuracy: 0.5780\n",
            "Epoch 140/150\n",
            "140/140 [==============================] - 0s 2ms/step - loss: 0.3794 - accuracy: 0.8529 - val_loss: 1.3642 - val_accuracy: 0.5846\n",
            "Epoch 141/150\n",
            "140/140 [==============================] - 0s 2ms/step - loss: 0.3778 - accuracy: 0.8500 - val_loss: 1.3707 - val_accuracy: 0.5796\n",
            "Epoch 142/150\n",
            "140/140 [==============================] - 0s 2ms/step - loss: 0.3793 - accuracy: 0.8486 - val_loss: 1.3840 - val_accuracy: 0.5780\n",
            "Epoch 143/150\n",
            "140/140 [==============================] - 0s 2ms/step - loss: 0.3772 - accuracy: 0.8486 - val_loss: 1.3879 - val_accuracy: 0.5829\n",
            "Epoch 144/150\n",
            "140/140 [==============================] - 0s 2ms/step - loss: 0.3790 - accuracy: 0.8443 - val_loss: 1.3884 - val_accuracy: 0.5813\n",
            "Epoch 145/150\n",
            "140/140 [==============================] - 0s 2ms/step - loss: 0.3766 - accuracy: 0.8457 - val_loss: 1.4108 - val_accuracy: 0.5813\n",
            "Epoch 146/150\n",
            "140/140 [==============================] - 0s 2ms/step - loss: 0.3757 - accuracy: 0.8500 - val_loss: 1.4150 - val_accuracy: 0.5813\n",
            "Epoch 147/150\n",
            "140/140 [==============================] - 0s 2ms/step - loss: 0.3773 - accuracy: 0.8443 - val_loss: 1.4129 - val_accuracy: 0.5796\n",
            "Epoch 148/150\n",
            "140/140 [==============================] - 0s 2ms/step - loss: 0.3752 - accuracy: 0.8443 - val_loss: 1.4104 - val_accuracy: 0.5813\n",
            "Epoch 149/150\n",
            "140/140 [==============================] - 0s 2ms/step - loss: 0.3748 - accuracy: 0.8471 - val_loss: 1.4109 - val_accuracy: 0.5846\n",
            "Epoch 150/150\n",
            "140/140 [==============================] - 0s 2ms/step - loss: 0.3739 - accuracy: 0.8500 - val_loss: 1.4073 - val_accuracy: 0.5764\n"
          ]
        }
      ]
    },
    {
      "cell_type": "code",
      "source": [
        "import matplotlib.pyplot as plt\n",
        "training_loss = DNN_model_hybrid.history['loss']\n",
        "test_loss = DNN_model_hybrid.history['val_loss']\n",
        "\n",
        "epoch_count = range(1, len(training_loss) + 1)\n",
        "\n",
        "plt.plot(epoch_count, training_loss, 'g--')\n",
        "plt.plot(epoch_count, test_loss, 'y-')\n",
        "plt.legend(['Train data Loss', 'Valid data Loss'])\n",
        "plt.xlabel('Epoch')\n",
        "plt.ylabel('Loss')\n",
        "plt.show();"
      ],
      "metadata": {
        "colab": {
          "base_uri": "https://localhost:8080/",
          "height": 279
        },
        "id": "FsvUJJ3IC4W2",
        "outputId": "9a43c2b8-95be-487a-f1f1-d85f9f89499e"
      },
      "execution_count": 37,
      "outputs": [
        {
          "output_type": "display_data",
          "data": {
            "text/plain": [
              "<Figure size 432x288 with 1 Axes>"
            ],
            "image/png": "[encoded data removed]"
          },
          "metadata": {
            "needs_background": "light"
          }
        }
      ]
    },
    {
      "cell_type": "code",
      "source": [
        "training_loss = DNN_model_hybrid.history['accuracy']\n",
        "test_loss = DNN_model_hybrid.history['val_accuracy']\n",
        "\n",
        "epoch_count = range(1, len(training_loss) + 1)\n",
        "\n",
        "plt.plot(epoch_count, training_loss, 'g--')\n",
        "plt.plot(epoch_count, test_loss, 'y-')\n",
        "plt.legend(['Training Accuracy', 'Valid Accuracy'])\n",
        "plt.xlabel('Epoch')\n",
        "plt.ylabel('Accuracy')\n",
        "plt.show();\n"
      ],
      "metadata": {
        "colab": {
          "base_uri": "https://localhost:8080/",
          "height": 279
        },
        "id": "NBrylvGvFDVB",
        "outputId": "252a64e3-5302-4748-b1b0-1e5a0a2acfe0"
      },
      "execution_count": 38,
      "outputs": [
        {
          "output_type": "display_data",
          "data": {
            "text/plain": [
              "<Figure size 432x288 with 1 Axes>"
            ],
            "image/png": "[encoded data removed]"
          },
          "metadata": {
            "needs_background": "light"
          }
        }
      ]
    },
    {
      "cell_type": "code",
      "source": [
        "eval_result = DNN_model_init.evaluate(X_valid_hybrid, Y_valid)\n",
        "print(\"[test loss, test accuracy]:\", eval_result)"
      ],
      "metadata": {
        "colab": {
          "base_uri": "https://localhost:8080/"
        },
        "id": "xLWx6t0aFOic",
        "outputId": "19d73705-d928-4a20-b20c-cad110aff7e9"
      },
      "execution_count": 39,
      "outputs": [
        {
          "output_type": "stream",
          "name": "stdout",
          "text": [
            "20/20 [==============================] - 0s 1ms/step - loss: 1.4073 - accuracy: 0.5764\n",
            "[test loss, test accuracy]: [1.4073067903518677, 0.5763546824455261]\n"
          ]
        }
      ]
    },
    {
      "cell_type": "markdown",
      "source": [
        "<h2> Accuracy of RF: 70.05% </h2>\n",
        "<h2> Accuracy of DNN: 60.43% </h2>\n",
        "<h2> Accuracy of hybrid RF/DNN: 53.53% </h2>"
      ],
      "metadata": {
        "id": "khUh7Iruqw98"
      }
    },
    {
      "cell_type": "markdown",
      "source": [
        "<p>Ensemble learning strategies include bagging and boosting.</p>\n",
        "<p>Through bagging, many subsets are created from the original data. It further seeks to decrease variance by generating more data for training. The average output of the N learners is used to calculate the outcome after each of these subsets is used to construct a weak model (weak models).</p>\n",
        "<p>\n",
        "Boosting is a sequential process where subsequent models learn from the mistakes of the preceding models. Data items that are incorrectly classified are given extra weight. The models that perform well with that subset of the input data are largely what determine which data point becomes the final output.</p>"
      ],
      "metadata": {
        "id": "y4M2qI95omi-"
      }
    },
    {
      "cell_type": "code",
      "source": [
        ""
      ],
      "metadata": {
        "id": "nge8mpuZ4oIb"
      },
      "execution_count": 39,
      "outputs": []
    }
  ]
}